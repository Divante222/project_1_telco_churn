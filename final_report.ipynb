{
 "cells": [
  {
   "cell_type": "markdown",
   "id": "966c5cd0",
   "metadata": {},
   "source": [
    "## Telco Churn "
   ]
  },
  {
   "cell_type": "markdown",
   "id": "a7458143",
   "metadata": {},
   "source": [
    "## Goal:\n",
    "\n"
   ]
  },
  {
   "cell_type": "markdown",
   "id": "8adfb869",
   "metadata": {},
   "source": [
    "## imports"
   ]
  },
  {
   "cell_type": "code",
   "execution_count": 1,
   "id": "866f7b10",
   "metadata": {},
   "outputs": [],
   "source": [
    "import numpy as np\n",
    "import pandas as pd\n",
    "import math\n",
    "import seaborn as sns\n",
    "from sklearn.metrics import classification_report, confusion_matrix\n",
    "import itertools\n",
    "import numpy as np\n",
    "import wrangle\n",
    "from scipy import stats\n",
    "from sklearn.linear_model import LogisticRegression\n",
    "import matplotlib.pyplot as plt\n",
    "from sklearn.tree import DecisionTreeClassifier\n",
    "from sklearn.tree import plot_tree\n",
    "from sklearn.ensemble import RandomForestClassifier\n",
    "from sklearn.neighbors import KNeighborsClassifier\n",
    "## updating the pandas viewing options\n",
    "pd.set_option('display.max_rows', 1000)\n",
    "pd.set_option('display.max_columns', 1000)\n",
    "pd.set_option('display.width', 1000)"
   ]
  },
  {
   "cell_type": "markdown",
   "id": "308762b6",
   "metadata": {},
   "source": [
    "## Acquire\n",
    "\n",
    "- Data acquired from SQL database\n",
    "- It contained 7043 rows and 24 columns before cleaning\n",
    "- Each row represents a telco customer\n",
    "- Each column represents a catagory of data"
   ]
  },
  {
   "cell_type": "markdown",
   "id": "90420274",
   "metadata": {},
   "source": [
    "## Prepare\n",
    "\n",
    "- made dummy columns of the datatype object columns to get a numeric\n",
    "for those columns\n",
    "\n",
    "- checked for nulls in the data and converted the total_charges column\n",
    "to 0 because those customers had zero tenure\n",
    "\n",
    "- checked that the column datatypes were appropriate\n",
    "\n",
    "- dropped the columns 'payment_type_id','internet_service_type_id','contract_type_id' because the information was vague\n",
    "\n",
    "- Split data into train, validate and test (approx. 60/20/20), stratifying on 'churn_yes'\n",
    "\n",
    "- Outliers have not been removed for this iteration of the project\n"
   ]
  },
  {
   "cell_type": "code",
   "execution_count": 2,
   "id": "a7d2ac54",
   "metadata": {},
   "outputs": [],
   "source": [
    "## getting and preping my data\n",
    "\n",
    "df = wrangle.get_telco_data()\n",
    "\n",
    "df = wrangle.prep_telco(df)\n"
   ]
  },
  {
   "cell_type": "code",
   "execution_count": 3,
   "id": "47aa700c",
   "metadata": {},
   "outputs": [],
   "source": [
    "#getting the train test and validate data\n",
    "train, validate, test = wrangle.split_data(df, 'churn_Yes')"
   ]
  },
  {
   "cell_type": "code",
   "execution_count": 4,
   "id": "b8008e06",
   "metadata": {
    "scrolled": false
   },
   "outputs": [
    {
     "data": {
      "text/html": [
       "<style type=\"text/css\">\n",
       "#T_be9b2 th {\n",
       "  text-align: left;\n",
       "}\n",
       "#T_be9b2_row0_col0, #T_be9b2_row1_col0, #T_be9b2_row2_col0, #T_be9b2_row3_col0, #T_be9b2_row4_col0, #T_be9b2_row5_col0, #T_be9b2_row6_col0, #T_be9b2_row7_col0, #T_be9b2_row8_col0, #T_be9b2_row9_col0, #T_be9b2_row10_col0, #T_be9b2_row11_col0, #T_be9b2_row12_col0, #T_be9b2_row13_col0, #T_be9b2_row14_col0, #T_be9b2_row15_col0, #T_be9b2_row16_col0, #T_be9b2_row17_col0, #T_be9b2_row18_col0, #T_be9b2_row19_col0, #T_be9b2_row20_col0 {\n",
       "  text-align: left;\n",
       "}\n",
       "</style>\n",
       "<table id=\"T_be9b2\">\n",
       "  <thead>\n",
       "    <tr>\n",
       "      <th class=\"blank level0\" >&nbsp;</th>\n",
       "      <th id=\"T_be9b2_level0_col0\" class=\"col_heading level0 col0\" >definition</th>\n",
       "    </tr>\n",
       "    <tr>\n",
       "      <th class=\"index_name level0\" >features</th>\n",
       "      <th class=\"blank col0\" >&nbsp;</th>\n",
       "    </tr>\n",
       "  </thead>\n",
       "  <tbody>\n",
       "    <tr>\n",
       "      <th id=\"T_be9b2_level0_row0\" class=\"row_heading level0 row0\" >customer_id</th>\n",
       "      <td id=\"T_be9b2_row0_col0\" class=\"data row0 col0\" >Customer ID</td>\n",
       "    </tr>\n",
       "    <tr>\n",
       "      <th id=\"T_be9b2_level0_row1\" class=\"row_heading level0 row1\" >gender</th>\n",
       "      <td id=\"T_be9b2_row1_col0\" class=\"data row1 col0\" >Whether the customer is a male or a female</td>\n",
       "    </tr>\n",
       "    <tr>\n",
       "      <th id=\"T_be9b2_level0_row2\" class=\"row_heading level0 row2\" >senior_citizen</th>\n",
       "      <td id=\"T_be9b2_row2_col0\" class=\"data row2 col0\" >Whether the customer is a senior citizen or not</td>\n",
       "    </tr>\n",
       "    <tr>\n",
       "      <th id=\"T_be9b2_level0_row3\" class=\"row_heading level0 row3\" >partner</th>\n",
       "      <td id=\"T_be9b2_row3_col0\" class=\"data row3 col0\" >Whether the customer has a partner or not</td>\n",
       "    </tr>\n",
       "    <tr>\n",
       "      <th id=\"T_be9b2_level0_row4\" class=\"row_heading level0 row4\" >dependents</th>\n",
       "      <td id=\"T_be9b2_row4_col0\" class=\"data row4 col0\" >Whether the customer has dependents or not</td>\n",
       "    </tr>\n",
       "    <tr>\n",
       "      <th id=\"T_be9b2_level0_row5\" class=\"row_heading level0 row5\" >tenure</th>\n",
       "      <td id=\"T_be9b2_row5_col0\" class=\"data row5 col0\" >Number of months the customer has stayed with the company</td>\n",
       "    </tr>\n",
       "    <tr>\n",
       "      <th id=\"T_be9b2_level0_row6\" class=\"row_heading level0 row6\" >phone_service</th>\n",
       "      <td id=\"T_be9b2_row6_col0\" class=\"data row6 col0\" >Whether the customer has a phone service or not</td>\n",
       "    </tr>\n",
       "    <tr>\n",
       "      <th id=\"T_be9b2_level0_row7\" class=\"row_heading level0 row7\" >multiple_lines</th>\n",
       "      <td id=\"T_be9b2_row7_col0\" class=\"data row7 col0\" >Whether the customer has multiple lines or not</td>\n",
       "    </tr>\n",
       "    <tr>\n",
       "      <th id=\"T_be9b2_level0_row8\" class=\"row_heading level0 row8\" >online_security</th>\n",
       "      <td id=\"T_be9b2_row8_col0\" class=\"data row8 col0\" >Whether the customer has online security or not</td>\n",
       "    </tr>\n",
       "    <tr>\n",
       "      <th id=\"T_be9b2_level0_row9\" class=\"row_heading level0 row9\" >online_backup</th>\n",
       "      <td id=\"T_be9b2_row9_col0\" class=\"data row9 col0\" >Whether the customer has online backup or not</td>\n",
       "    </tr>\n",
       "    <tr>\n",
       "      <th id=\"T_be9b2_level0_row10\" class=\"row_heading level0 row10\" >device_protection</th>\n",
       "      <td id=\"T_be9b2_row10_col0\" class=\"data row10 col0\" >Whether the customer has device protection or not</td>\n",
       "    </tr>\n",
       "    <tr>\n",
       "      <th id=\"T_be9b2_level0_row11\" class=\"row_heading level0 row11\" >tech_support</th>\n",
       "      <td id=\"T_be9b2_row11_col0\" class=\"data row11 col0\" >Whether the customer has tech support or not</td>\n",
       "    </tr>\n",
       "    <tr>\n",
       "      <th id=\"T_be9b2_level0_row12\" class=\"row_heading level0 row12\" >streaming_tv</th>\n",
       "      <td id=\"T_be9b2_row12_col0\" class=\"data row12 col0\" >Whether the customer has streaming TV or not</td>\n",
       "    </tr>\n",
       "    <tr>\n",
       "      <th id=\"T_be9b2_level0_row13\" class=\"row_heading level0 row13\" >streaming_movies</th>\n",
       "      <td id=\"T_be9b2_row13_col0\" class=\"data row13 col0\" >Whether the customer has streaming movies or not</td>\n",
       "    </tr>\n",
       "    <tr>\n",
       "      <th id=\"T_be9b2_level0_row14\" class=\"row_heading level0 row14\" >paperless_billing</th>\n",
       "      <td id=\"T_be9b2_row14_col0\" class=\"data row14 col0\" >Whether the customer has paperless billing or not</td>\n",
       "    </tr>\n",
       "    <tr>\n",
       "      <th id=\"T_be9b2_level0_row15\" class=\"row_heading level0 row15\" >monthly_charges</th>\n",
       "      <td id=\"T_be9b2_row15_col0\" class=\"data row15 col0\" >The amount charged to the customer monthly</td>\n",
       "    </tr>\n",
       "    <tr>\n",
       "      <th id=\"T_be9b2_level0_row16\" class=\"row_heading level0 row16\" >total_charges</th>\n",
       "      <td id=\"T_be9b2_row16_col0\" class=\"data row16 col0\" >The total amount charged to the customer</td>\n",
       "    </tr>\n",
       "    <tr>\n",
       "      <th id=\"T_be9b2_level0_row17\" class=\"row_heading level0 row17\" >churn</th>\n",
       "      <td id=\"T_be9b2_row17_col0\" class=\"data row17 col0\" >Whether the customer churned or not</td>\n",
       "    </tr>\n",
       "    <tr>\n",
       "      <th id=\"T_be9b2_level0_row18\" class=\"row_heading level0 row18\" >contract_type</th>\n",
       "      <td id=\"T_be9b2_row18_col0\" class=\"data row18 col0\" >The contract term of the customer (Month-to-month, One year, Two year)</td>\n",
       "    </tr>\n",
       "    <tr>\n",
       "      <th id=\"T_be9b2_level0_row19\" class=\"row_heading level0 row19\" >internet_service_type</th>\n",
       "      <td id=\"T_be9b2_row19_col0\" class=\"data row19 col0\" >Customer’s internet service provider (DSL, Fiber optic, No)</td>\n",
       "    </tr>\n",
       "    <tr>\n",
       "      <th id=\"T_be9b2_level0_row20\" class=\"row_heading level0 row20\" >payment_type</th>\n",
       "      <td id=\"T_be9b2_row20_col0\" class=\"data row20 col0\" >The customer’s payment method (Electronic check, Mailed check, Bank transfer (automatic), Credit card (automatic))</td>\n",
       "    </tr>\n",
       "  </tbody>\n",
       "</table>\n"
      ],
      "text/plain": [
       "<pandas.io.formats.style.Styler at 0x14c72f3d0>"
      ]
     },
     "metadata": {},
     "output_type": "display_data"
    }
   ],
   "source": [
    "## creating the data dictionary\n",
    "\n",
    "columns = df.columns\n",
    "\n",
    "features = []\n",
    "definition = ['Customer ID','Whether the customer is a male or a female','Whether the customer is a senior citizen or not','Whether the customer has a partner or not','Whether the customer has dependents or not','Number of months the customer has stayed with the company','Whether the customer has a phone service or not','Whether the customer has multiple lines or not','Whether the customer has online security or not',\n",
    "             'Whether the customer has online backup or not','Whether the customer has device protection or not','Whether the customer has tech support or not','Whether the customer has streaming TV or not','Whether the customer has streaming movies or not','Whether the customer has paperless billing or not','The amount charged to the customer monthly','The total amount charged to the customer','Whether the customer churned or not',\n",
    "             'The contract term of the customer (Month-to-month, One year, Two year)','Customer’s internet service provider (DSL, Fiber optic, No)','The customer’s payment method (Electronic check, Mailed check, Bank transfer (automatic), Credit card (automatic))']\n",
    "\n",
    "for i in columns[0:21]:\n",
    "    features.append(i)\n",
    "    \n",
    "data_dictionary = pd.DataFrame({'features':features,\n",
    "                               'definition':definition})\n",
    "\n",
    "data_dictionary.reset_index(drop=True)\n",
    "data_dictionary.index = data_dictionary.features\n",
    "data_dictionary = data_dictionary.drop(columns='features')\n",
    "left_aligned_df = data_dictionary.style.set_properties(**{'text-align': 'left'})\n",
    "left_aligned_df = left_aligned_df.set_table_styles(\n",
    "[dict(selector = 'th', props=[('text-align', 'left')])])\n",
    "display(left_aligned_df) "
   ]
  },
  {
   "cell_type": "markdown",
   "id": "d6a3f9bd",
   "metadata": {},
   "source": [
    "## A brief look at the data"
   ]
  },
  {
   "cell_type": "code",
   "execution_count": 5,
   "id": "3bd7cc9e",
   "metadata": {},
   "outputs": [
    {
     "data": {
      "text/html": [
       "<div>\n",
       "<style scoped>\n",
       "    .dataframe tbody tr th:only-of-type {\n",
       "        vertical-align: middle;\n",
       "    }\n",
       "\n",
       "    .dataframe tbody tr th {\n",
       "        vertical-align: top;\n",
       "    }\n",
       "\n",
       "    .dataframe thead th {\n",
       "        text-align: right;\n",
       "    }\n",
       "</style>\n",
       "<table border=\"1\" class=\"dataframe\">\n",
       "  <thead>\n",
       "    <tr style=\"text-align: right;\">\n",
       "      <th></th>\n",
       "      <th>customer_id</th>\n",
       "      <th>gender</th>\n",
       "      <th>senior_citizen</th>\n",
       "      <th>partner</th>\n",
       "      <th>dependents</th>\n",
       "      <th>tenure</th>\n",
       "      <th>phone_service</th>\n",
       "      <th>multiple_lines</th>\n",
       "      <th>online_security</th>\n",
       "      <th>online_backup</th>\n",
       "      <th>device_protection</th>\n",
       "      <th>tech_support</th>\n",
       "      <th>streaming_tv</th>\n",
       "      <th>streaming_movies</th>\n",
       "      <th>paperless_billing</th>\n",
       "      <th>monthly_charges</th>\n",
       "      <th>total_charges</th>\n",
       "      <th>churn</th>\n",
       "      <th>contract_type</th>\n",
       "      <th>internet_service_type</th>\n",
       "      <th>payment_type</th>\n",
       "      <th>gender_Male</th>\n",
       "      <th>partner_Yes</th>\n",
       "      <th>dependents_Yes</th>\n",
       "      <th>phone_service_Yes</th>\n",
       "      <th>multiple_lines_No phone service</th>\n",
       "      <th>multiple_lines_Yes</th>\n",
       "      <th>online_security_No internet service</th>\n",
       "      <th>online_security_Yes</th>\n",
       "      <th>online_backup_Yes</th>\n",
       "      <th>device_protection_Yes</th>\n",
       "      <th>tech_support_Yes</th>\n",
       "      <th>streaming_tv_Yes</th>\n",
       "      <th>streaming_movies_Yes</th>\n",
       "      <th>paperless_billing_Yes</th>\n",
       "      <th>churn_Yes</th>\n",
       "      <th>contract_type_One year</th>\n",
       "      <th>contract_type_Two year</th>\n",
       "      <th>internet_service_type_Fiber optic</th>\n",
       "      <th>payment_type_Credit_card</th>\n",
       "      <th>payment_type_Electronic_check</th>\n",
       "      <th>payment_type_Mailed_check</th>\n",
       "    </tr>\n",
       "  </thead>\n",
       "  <tbody>\n",
       "    <tr>\n",
       "      <th>5911</th>\n",
       "      <td>8319-QBEHW</td>\n",
       "      <td>Male</td>\n",
       "      <td>0</td>\n",
       "      <td>No</td>\n",
       "      <td>Yes</td>\n",
       "      <td>26</td>\n",
       "      <td>No</td>\n",
       "      <td>No phone service</td>\n",
       "      <td>No</td>\n",
       "      <td>Yes</td>\n",
       "      <td>No</td>\n",
       "      <td>No</td>\n",
       "      <td>Yes</td>\n",
       "      <td>No</td>\n",
       "      <td>Yes</td>\n",
       "      <td>39.95</td>\n",
       "      <td>1023.75</td>\n",
       "      <td>No</td>\n",
       "      <td>One year</td>\n",
       "      <td>DSL</td>\n",
       "      <td>Bank transfer (automatic)</td>\n",
       "      <td>1</td>\n",
       "      <td>0</td>\n",
       "      <td>1</td>\n",
       "      <td>0</td>\n",
       "      <td>1</td>\n",
       "      <td>0</td>\n",
       "      <td>0</td>\n",
       "      <td>0</td>\n",
       "      <td>1</td>\n",
       "      <td>0</td>\n",
       "      <td>0</td>\n",
       "      <td>1</td>\n",
       "      <td>0</td>\n",
       "      <td>1</td>\n",
       "      <td>0</td>\n",
       "      <td>1</td>\n",
       "      <td>0</td>\n",
       "      <td>0</td>\n",
       "      <td>0</td>\n",
       "      <td>0</td>\n",
       "      <td>0</td>\n",
       "    </tr>\n",
       "    <tr>\n",
       "      <th>2479</th>\n",
       "      <td>3547-LQRIK</td>\n",
       "      <td>Female</td>\n",
       "      <td>0</td>\n",
       "      <td>Yes</td>\n",
       "      <td>No</td>\n",
       "      <td>47</td>\n",
       "      <td>Yes</td>\n",
       "      <td>Yes</td>\n",
       "      <td>No internet service</td>\n",
       "      <td>No internet service</td>\n",
       "      <td>No internet service</td>\n",
       "      <td>No internet service</td>\n",
       "      <td>No internet service</td>\n",
       "      <td>No internet service</td>\n",
       "      <td>No</td>\n",
       "      <td>26.9</td>\n",
       "      <td>1250.85</td>\n",
       "      <td>No</td>\n",
       "      <td>One year</td>\n",
       "      <td>None</td>\n",
       "      <td>Electronic check</td>\n",
       "      <td>0</td>\n",
       "      <td>1</td>\n",
       "      <td>0</td>\n",
       "      <td>1</td>\n",
       "      <td>0</td>\n",
       "      <td>1</td>\n",
       "      <td>1</td>\n",
       "      <td>0</td>\n",
       "      <td>0</td>\n",
       "      <td>0</td>\n",
       "      <td>0</td>\n",
       "      <td>0</td>\n",
       "      <td>0</td>\n",
       "      <td>0</td>\n",
       "      <td>0</td>\n",
       "      <td>1</td>\n",
       "      <td>0</td>\n",
       "      <td>0</td>\n",
       "      <td>0</td>\n",
       "      <td>1</td>\n",
       "      <td>0</td>\n",
       "    </tr>\n",
       "    <tr>\n",
       "      <th>5889</th>\n",
       "      <td>8280-MQRQN</td>\n",
       "      <td>Female</td>\n",
       "      <td>0</td>\n",
       "      <td>No</td>\n",
       "      <td>No</td>\n",
       "      <td>1</td>\n",
       "      <td>Yes</td>\n",
       "      <td>No</td>\n",
       "      <td>No</td>\n",
       "      <td>No</td>\n",
       "      <td>Yes</td>\n",
       "      <td>No</td>\n",
       "      <td>No</td>\n",
       "      <td>No</td>\n",
       "      <td>Yes</td>\n",
       "      <td>50.45</td>\n",
       "      <td>50.45</td>\n",
       "      <td>Yes</td>\n",
       "      <td>Month-to-month</td>\n",
       "      <td>DSL</td>\n",
       "      <td>Mailed check</td>\n",
       "      <td>0</td>\n",
       "      <td>0</td>\n",
       "      <td>0</td>\n",
       "      <td>1</td>\n",
       "      <td>0</td>\n",
       "      <td>0</td>\n",
       "      <td>0</td>\n",
       "      <td>0</td>\n",
       "      <td>0</td>\n",
       "      <td>1</td>\n",
       "      <td>0</td>\n",
       "      <td>0</td>\n",
       "      <td>0</td>\n",
       "      <td>1</td>\n",
       "      <td>1</td>\n",
       "      <td>0</td>\n",
       "      <td>0</td>\n",
       "      <td>0</td>\n",
       "      <td>0</td>\n",
       "      <td>0</td>\n",
       "      <td>1</td>\n",
       "    </tr>\n",
       "    <tr>\n",
       "      <th>6087</th>\n",
       "      <td>8626-PTQGE</td>\n",
       "      <td>Male</td>\n",
       "      <td>0</td>\n",
       "      <td>No</td>\n",
       "      <td>No</td>\n",
       "      <td>69</td>\n",
       "      <td>No</td>\n",
       "      <td>No phone service</td>\n",
       "      <td>Yes</td>\n",
       "      <td>Yes</td>\n",
       "      <td>No</td>\n",
       "      <td>Yes</td>\n",
       "      <td>Yes</td>\n",
       "      <td>Yes</td>\n",
       "      <td>Yes</td>\n",
       "      <td>60.05</td>\n",
       "      <td>4176.70</td>\n",
       "      <td>No</td>\n",
       "      <td>Two year</td>\n",
       "      <td>DSL</td>\n",
       "      <td>Bank transfer (automatic)</td>\n",
       "      <td>1</td>\n",
       "      <td>0</td>\n",
       "      <td>0</td>\n",
       "      <td>0</td>\n",
       "      <td>1</td>\n",
       "      <td>0</td>\n",
       "      <td>0</td>\n",
       "      <td>1</td>\n",
       "      <td>1</td>\n",
       "      <td>0</td>\n",
       "      <td>1</td>\n",
       "      <td>1</td>\n",
       "      <td>1</td>\n",
       "      <td>1</td>\n",
       "      <td>0</td>\n",
       "      <td>0</td>\n",
       "      <td>1</td>\n",
       "      <td>0</td>\n",
       "      <td>0</td>\n",
       "      <td>0</td>\n",
       "      <td>0</td>\n",
       "    </tr>\n",
       "    <tr>\n",
       "      <th>785</th>\n",
       "      <td>1142-IHLOO</td>\n",
       "      <td>Female</td>\n",
       "      <td>0</td>\n",
       "      <td>No</td>\n",
       "      <td>No</td>\n",
       "      <td>51</td>\n",
       "      <td>Yes</td>\n",
       "      <td>No</td>\n",
       "      <td>No</td>\n",
       "      <td>No</td>\n",
       "      <td>No</td>\n",
       "      <td>No</td>\n",
       "      <td>Yes</td>\n",
       "      <td>Yes</td>\n",
       "      <td>No</td>\n",
       "      <td>87.55</td>\n",
       "      <td>4475.90</td>\n",
       "      <td>No</td>\n",
       "      <td>One year</td>\n",
       "      <td>Fiber optic</td>\n",
       "      <td>Credit card (automatic)</td>\n",
       "      <td>0</td>\n",
       "      <td>0</td>\n",
       "      <td>0</td>\n",
       "      <td>1</td>\n",
       "      <td>0</td>\n",
       "      <td>0</td>\n",
       "      <td>0</td>\n",
       "      <td>0</td>\n",
       "      <td>0</td>\n",
       "      <td>0</td>\n",
       "      <td>0</td>\n",
       "      <td>1</td>\n",
       "      <td>1</td>\n",
       "      <td>0</td>\n",
       "      <td>0</td>\n",
       "      <td>1</td>\n",
       "      <td>0</td>\n",
       "      <td>1</td>\n",
       "      <td>1</td>\n",
       "      <td>0</td>\n",
       "      <td>0</td>\n",
       "    </tr>\n",
       "  </tbody>\n",
       "</table>\n",
       "</div>"
      ],
      "text/plain": [
       "     customer_id  gender senior_citizen partner dependents tenure phone_service    multiple_lines      online_security        online_backup    device_protection         tech_support         streaming_tv     streaming_movies paperless_billing monthly_charges  total_charges churn   contract_type internet_service_type               payment_type  gender_Male  partner_Yes  dependents_Yes  phone_service_Yes  multiple_lines_No phone service  multiple_lines_Yes  online_security_No internet service  online_security_Yes  online_backup_Yes  device_protection_Yes  tech_support_Yes  streaming_tv_Yes  streaming_movies_Yes  paperless_billing_Yes  churn_Yes  contract_type_One year  contract_type_Two year  internet_service_type_Fiber optic  payment_type_Credit_card  payment_type_Electronic_check  payment_type_Mailed_check\n",
       "5911  8319-QBEHW    Male              0      No        Yes     26            No  No phone service                   No                  Yes                   No                   No                  Yes                   No               Yes           39.95        1023.75    No        One year                   DSL  Bank transfer (automatic)            1            0               1                  0                                1                   0                                    0                    0                  1                      0                 0                 1                     0                      1          0                       1                       0                                  0                         0                              0                          0\n",
       "2479  3547-LQRIK  Female              0     Yes         No     47           Yes               Yes  No internet service  No internet service  No internet service  No internet service  No internet service  No internet service                No            26.9        1250.85    No        One year                  None           Electronic check            0            1               0                  1                                0                   1                                    1                    0                  0                      0                 0                 0                     0                      0          0                       1                       0                                  0                         0                              1                          0\n",
       "5889  8280-MQRQN  Female              0      No         No      1           Yes                No                   No                   No                  Yes                   No                   No                   No               Yes           50.45          50.45   Yes  Month-to-month                   DSL               Mailed check            0            0               0                  1                                0                   0                                    0                    0                  0                      1                 0                 0                     0                      1          1                       0                       0                                  0                         0                              0                          1\n",
       "6087  8626-PTQGE    Male              0      No         No     69            No  No phone service                  Yes                  Yes                   No                  Yes                  Yes                  Yes               Yes           60.05        4176.70    No        Two year                   DSL  Bank transfer (automatic)            1            0               0                  0                                1                   0                                    0                    1                  1                      0                 1                 1                     1                      1          0                       0                       1                                  0                         0                              0                          0\n",
       "785   1142-IHLOO  Female              0      No         No     51           Yes                No                   No                   No                   No                   No                  Yes                  Yes                No           87.55        4475.90    No        One year           Fiber optic    Credit card (automatic)            0            0               0                  1                                0                   0                                    0                    0                  0                      0                 0                 1                     1                      0          0                       1                       0                                  1                         1                              0                          0"
      ]
     },
     "execution_count": 5,
     "metadata": {},
     "output_type": "execute_result"
    }
   ],
   "source": [
    "#looking at the training data\n",
    "train.head()"
   ]
  },
  {
   "cell_type": "markdown",
   "id": "00075aa7",
   "metadata": {},
   "source": [
    "## A summary of the data"
   ]
  },
  {
   "cell_type": "code",
   "execution_count": 6,
   "id": "31ea74bb",
   "metadata": {},
   "outputs": [
    {
     "data": {
      "text/html": [
       "<div>\n",
       "<style scoped>\n",
       "    .dataframe tbody tr th:only-of-type {\n",
       "        vertical-align: middle;\n",
       "    }\n",
       "\n",
       "    .dataframe tbody tr th {\n",
       "        vertical-align: top;\n",
       "    }\n",
       "\n",
       "    .dataframe thead th {\n",
       "        text-align: right;\n",
       "    }\n",
       "</style>\n",
       "<table border=\"1\" class=\"dataframe\">\n",
       "  <thead>\n",
       "    <tr style=\"text-align: right;\">\n",
       "      <th></th>\n",
       "      <th>total_charges</th>\n",
       "      <th>gender_Male</th>\n",
       "      <th>partner_Yes</th>\n",
       "      <th>dependents_Yes</th>\n",
       "      <th>phone_service_Yes</th>\n",
       "      <th>multiple_lines_No phone service</th>\n",
       "      <th>multiple_lines_Yes</th>\n",
       "      <th>online_security_No internet service</th>\n",
       "      <th>online_security_Yes</th>\n",
       "      <th>online_backup_Yes</th>\n",
       "      <th>device_protection_Yes</th>\n",
       "      <th>tech_support_Yes</th>\n",
       "      <th>streaming_tv_Yes</th>\n",
       "      <th>streaming_movies_Yes</th>\n",
       "      <th>paperless_billing_Yes</th>\n",
       "      <th>churn_Yes</th>\n",
       "      <th>contract_type_One year</th>\n",
       "      <th>contract_type_Two year</th>\n",
       "      <th>internet_service_type_Fiber optic</th>\n",
       "      <th>payment_type_Credit_card</th>\n",
       "      <th>payment_type_Electronic_check</th>\n",
       "      <th>payment_type_Mailed_check</th>\n",
       "    </tr>\n",
       "  </thead>\n",
       "  <tbody>\n",
       "    <tr>\n",
       "      <th>count</th>\n",
       "      <td>4225.000000</td>\n",
       "      <td>4225.000000</td>\n",
       "      <td>4225.000000</td>\n",
       "      <td>4225.000000</td>\n",
       "      <td>4225.000000</td>\n",
       "      <td>4225.000000</td>\n",
       "      <td>4225.000000</td>\n",
       "      <td>4225.000000</td>\n",
       "      <td>4225.000000</td>\n",
       "      <td>4225.000000</td>\n",
       "      <td>4225.000000</td>\n",
       "      <td>4225.000000</td>\n",
       "      <td>4225.000000</td>\n",
       "      <td>4225.000000</td>\n",
       "      <td>4225.000000</td>\n",
       "      <td>4225.000000</td>\n",
       "      <td>4225.000000</td>\n",
       "      <td>4225.000000</td>\n",
       "      <td>4225.000000</td>\n",
       "      <td>4225.000000</td>\n",
       "      <td>4225.000000</td>\n",
       "      <td>4225.000000</td>\n",
       "    </tr>\n",
       "    <tr>\n",
       "      <th>mean</th>\n",
       "      <td>2298.513598</td>\n",
       "      <td>0.508639</td>\n",
       "      <td>0.488521</td>\n",
       "      <td>0.306272</td>\n",
       "      <td>0.906982</td>\n",
       "      <td>0.093018</td>\n",
       "      <td>0.427692</td>\n",
       "      <td>0.218462</td>\n",
       "      <td>0.291598</td>\n",
       "      <td>0.350059</td>\n",
       "      <td>0.351006</td>\n",
       "      <td>0.289467</td>\n",
       "      <td>0.392189</td>\n",
       "      <td>0.395503</td>\n",
       "      <td>0.593846</td>\n",
       "      <td>0.265325</td>\n",
       "      <td>0.216095</td>\n",
       "      <td>0.235503</td>\n",
       "      <td>0.439053</td>\n",
       "      <td>0.217515</td>\n",
       "      <td>0.336805</td>\n",
       "      <td>0.224852</td>\n",
       "    </tr>\n",
       "    <tr>\n",
       "      <th>std</th>\n",
       "      <td>2271.603284</td>\n",
       "      <td>0.499985</td>\n",
       "      <td>0.499927</td>\n",
       "      <td>0.460999</td>\n",
       "      <td>0.290492</td>\n",
       "      <td>0.290492</td>\n",
       "      <td>0.494803</td>\n",
       "      <td>0.413251</td>\n",
       "      <td>0.454552</td>\n",
       "      <td>0.477045</td>\n",
       "      <td>0.477341</td>\n",
       "      <td>0.453569</td>\n",
       "      <td>0.488296</td>\n",
       "      <td>0.489016</td>\n",
       "      <td>0.491172</td>\n",
       "      <td>0.441559</td>\n",
       "      <td>0.411628</td>\n",
       "      <td>0.424363</td>\n",
       "      <td>0.496330</td>\n",
       "      <td>0.412604</td>\n",
       "      <td>0.472673</td>\n",
       "      <td>0.417534</td>\n",
       "    </tr>\n",
       "    <tr>\n",
       "      <th>min</th>\n",
       "      <td>0.000000</td>\n",
       "      <td>0.000000</td>\n",
       "      <td>0.000000</td>\n",
       "      <td>0.000000</td>\n",
       "      <td>0.000000</td>\n",
       "      <td>0.000000</td>\n",
       "      <td>0.000000</td>\n",
       "      <td>0.000000</td>\n",
       "      <td>0.000000</td>\n",
       "      <td>0.000000</td>\n",
       "      <td>0.000000</td>\n",
       "      <td>0.000000</td>\n",
       "      <td>0.000000</td>\n",
       "      <td>0.000000</td>\n",
       "      <td>0.000000</td>\n",
       "      <td>0.000000</td>\n",
       "      <td>0.000000</td>\n",
       "      <td>0.000000</td>\n",
       "      <td>0.000000</td>\n",
       "      <td>0.000000</td>\n",
       "      <td>0.000000</td>\n",
       "      <td>0.000000</td>\n",
       "    </tr>\n",
       "    <tr>\n",
       "      <th>25%</th>\n",
       "      <td>411.600000</td>\n",
       "      <td>0.000000</td>\n",
       "      <td>0.000000</td>\n",
       "      <td>0.000000</td>\n",
       "      <td>1.000000</td>\n",
       "      <td>0.000000</td>\n",
       "      <td>0.000000</td>\n",
       "      <td>0.000000</td>\n",
       "      <td>0.000000</td>\n",
       "      <td>0.000000</td>\n",
       "      <td>0.000000</td>\n",
       "      <td>0.000000</td>\n",
       "      <td>0.000000</td>\n",
       "      <td>0.000000</td>\n",
       "      <td>0.000000</td>\n",
       "      <td>0.000000</td>\n",
       "      <td>0.000000</td>\n",
       "      <td>0.000000</td>\n",
       "      <td>0.000000</td>\n",
       "      <td>0.000000</td>\n",
       "      <td>0.000000</td>\n",
       "      <td>0.000000</td>\n",
       "    </tr>\n",
       "    <tr>\n",
       "      <th>50%</th>\n",
       "      <td>1401.150000</td>\n",
       "      <td>1.000000</td>\n",
       "      <td>0.000000</td>\n",
       "      <td>0.000000</td>\n",
       "      <td>1.000000</td>\n",
       "      <td>0.000000</td>\n",
       "      <td>0.000000</td>\n",
       "      <td>0.000000</td>\n",
       "      <td>0.000000</td>\n",
       "      <td>0.000000</td>\n",
       "      <td>0.000000</td>\n",
       "      <td>0.000000</td>\n",
       "      <td>0.000000</td>\n",
       "      <td>0.000000</td>\n",
       "      <td>1.000000</td>\n",
       "      <td>0.000000</td>\n",
       "      <td>0.000000</td>\n",
       "      <td>0.000000</td>\n",
       "      <td>0.000000</td>\n",
       "      <td>0.000000</td>\n",
       "      <td>0.000000</td>\n",
       "      <td>0.000000</td>\n",
       "    </tr>\n",
       "    <tr>\n",
       "      <th>75%</th>\n",
       "      <td>3865.450000</td>\n",
       "      <td>1.000000</td>\n",
       "      <td>1.000000</td>\n",
       "      <td>1.000000</td>\n",
       "      <td>1.000000</td>\n",
       "      <td>0.000000</td>\n",
       "      <td>1.000000</td>\n",
       "      <td>0.000000</td>\n",
       "      <td>1.000000</td>\n",
       "      <td>1.000000</td>\n",
       "      <td>1.000000</td>\n",
       "      <td>1.000000</td>\n",
       "      <td>1.000000</td>\n",
       "      <td>1.000000</td>\n",
       "      <td>1.000000</td>\n",
       "      <td>1.000000</td>\n",
       "      <td>0.000000</td>\n",
       "      <td>0.000000</td>\n",
       "      <td>1.000000</td>\n",
       "      <td>0.000000</td>\n",
       "      <td>1.000000</td>\n",
       "      <td>0.000000</td>\n",
       "    </tr>\n",
       "    <tr>\n",
       "      <th>max</th>\n",
       "      <td>8672.450000</td>\n",
       "      <td>1.000000</td>\n",
       "      <td>1.000000</td>\n",
       "      <td>1.000000</td>\n",
       "      <td>1.000000</td>\n",
       "      <td>1.000000</td>\n",
       "      <td>1.000000</td>\n",
       "      <td>1.000000</td>\n",
       "      <td>1.000000</td>\n",
       "      <td>1.000000</td>\n",
       "      <td>1.000000</td>\n",
       "      <td>1.000000</td>\n",
       "      <td>1.000000</td>\n",
       "      <td>1.000000</td>\n",
       "      <td>1.000000</td>\n",
       "      <td>1.000000</td>\n",
       "      <td>1.000000</td>\n",
       "      <td>1.000000</td>\n",
       "      <td>1.000000</td>\n",
       "      <td>1.000000</td>\n",
       "      <td>1.000000</td>\n",
       "      <td>1.000000</td>\n",
       "    </tr>\n",
       "  </tbody>\n",
       "</table>\n",
       "</div>"
      ],
      "text/plain": [
       "       total_charges  gender_Male  partner_Yes  dependents_Yes  phone_service_Yes  multiple_lines_No phone service  multiple_lines_Yes  online_security_No internet service  online_security_Yes  online_backup_Yes  device_protection_Yes  tech_support_Yes  streaming_tv_Yes  streaming_movies_Yes  paperless_billing_Yes    churn_Yes  contract_type_One year  contract_type_Two year  internet_service_type_Fiber optic  payment_type_Credit_card  payment_type_Electronic_check  payment_type_Mailed_check\n",
       "count    4225.000000  4225.000000  4225.000000     4225.000000        4225.000000                      4225.000000         4225.000000                          4225.000000          4225.000000        4225.000000            4225.000000       4225.000000       4225.000000           4225.000000            4225.000000  4225.000000             4225.000000             4225.000000                        4225.000000               4225.000000                    4225.000000                4225.000000\n",
       "mean     2298.513598     0.508639     0.488521        0.306272           0.906982                         0.093018            0.427692                             0.218462             0.291598           0.350059               0.351006          0.289467          0.392189              0.395503               0.593846     0.265325                0.216095                0.235503                           0.439053                  0.217515                       0.336805                   0.224852\n",
       "std      2271.603284     0.499985     0.499927        0.460999           0.290492                         0.290492            0.494803                             0.413251             0.454552           0.477045               0.477341          0.453569          0.488296              0.489016               0.491172     0.441559                0.411628                0.424363                           0.496330                  0.412604                       0.472673                   0.417534\n",
       "min         0.000000     0.000000     0.000000        0.000000           0.000000                         0.000000            0.000000                             0.000000             0.000000           0.000000               0.000000          0.000000          0.000000              0.000000               0.000000     0.000000                0.000000                0.000000                           0.000000                  0.000000                       0.000000                   0.000000\n",
       "25%       411.600000     0.000000     0.000000        0.000000           1.000000                         0.000000            0.000000                             0.000000             0.000000           0.000000               0.000000          0.000000          0.000000              0.000000               0.000000     0.000000                0.000000                0.000000                           0.000000                  0.000000                       0.000000                   0.000000\n",
       "50%      1401.150000     1.000000     0.000000        0.000000           1.000000                         0.000000            0.000000                             0.000000             0.000000           0.000000               0.000000          0.000000          0.000000              0.000000               1.000000     0.000000                0.000000                0.000000                           0.000000                  0.000000                       0.000000                   0.000000\n",
       "75%      3865.450000     1.000000     1.000000        1.000000           1.000000                         0.000000            1.000000                             0.000000             1.000000           1.000000               1.000000          1.000000          1.000000              1.000000               1.000000     1.000000                0.000000                0.000000                           1.000000                  0.000000                       1.000000                   0.000000\n",
       "max      8672.450000     1.000000     1.000000        1.000000           1.000000                         1.000000            1.000000                             1.000000             1.000000           1.000000               1.000000          1.000000          1.000000              1.000000               1.000000     1.000000                1.000000                1.000000                           1.000000                  1.000000                       1.000000                   1.000000"
      ]
     },
     "execution_count": 6,
     "metadata": {},
     "output_type": "execute_result"
    }
   ],
   "source": [
    "# describing the training data\n",
    "train.describe()"
   ]
  },
  {
   "cell_type": "markdown",
   "id": "27673eb8",
   "metadata": {},
   "source": [
    "## Explore"
   ]
  },
  {
   "cell_type": "markdown",
   "id": "39cc8f21",
   "metadata": {},
   "source": [
    "## Does payment type affect churn\n"
   ]
  },
  {
   "cell_type": "code",
   "execution_count": 7,
   "id": "02b5c356",
   "metadata": {},
   "outputs": [
    {
     "data": {
      "image/png": "[encoded data removed]",
      "text/plain": [
       "<Figure size 640x480 with 1 Axes>"
      ]
     },
     "metadata": {},
     "output_type": "display_data"
    }
   ],
   "source": [
    "#plotting churn_Yes and payment type\n",
    "plt.title('Does payment type affect churn')\n",
    "ax = sns.barplot(x='payment_type', y ='churn_Yes', data = train)\n",
    "ax.tick_params(axis='x', rotation=30)\n",
    "plt.show()"
   ]
  },
  {
   "cell_type": "markdown",
   "id": "581ec9f7",
   "metadata": {},
   "source": [
    "- a little above 40% of the people who churned paid by electronic check\n",
    "\n",
    "- payment_type affects the customer churn rate\n",
    "<br><br>\n",
    "- we assume a normal distribution because of the amount of samples being over 500\n",
    "<br>\n",
    "<b>I will now use a chi-square test to investigate weather \"payment_type\" and \"churn_Yes\" are related.</b>\n",
    "<br>\n",
    "- I will use a confidence interval of 95%\n",
    "- the resulting alpha is .05\n",
    "\n",
    "<b>Ho: payment_type and churn_Yes are independent of one another</b>\n",
    "\n",
    "<b>Ha: payment_type and churn_Yes are dependent on one another</b>"
   ]
  },
  {
   "cell_type": "code",
   "execution_count": 8,
   "id": "7cb14b00",
   "metadata": {},
   "outputs": [
    {
     "name": "stdout",
     "output_type": "stream",
     "text": [
      "p value:  5.412195802407718e-84\n",
      "\n",
      "We reject the null hypothesis because the p value is less than alpha\n",
      "\n",
      "payment_type and churn_Yes are dependent on one another\n"
     ]
    }
   ],
   "source": [
    "## running a chi2 test on the training data\n",
    "observed = pd.crosstab(train.churn_Yes, train.payment_type)\n",
    "chi2, p, degf, expected = stats.chi2_contingency(observed)\n",
    "print('p value: ',p)\n",
    "\n",
    "print('\\nWe reject the null hypothesis because the p value is less than alpha\\n')\n",
    "print('payment_type and churn_Yes are dependent on one another')"
   ]
  },
  {
   "cell_type": "markdown",
   "id": "95163ca0",
   "metadata": {},
   "source": [
    "## Does contract type affect churn"
   ]
  },
  {
   "cell_type": "code",
   "execution_count": 9,
   "id": "25e954f8",
   "metadata": {},
   "outputs": [
    {
     "data": {
      "image/png": "[encoded data removed]",
      "text/plain": [
       "<Figure size 640x480 with 1 Axes>"
      ]
     },
     "metadata": {},
     "output_type": "display_data"
    }
   ],
   "source": [
    "#plotting contract type and churn_Yes\n",
    "\n",
    "plt.title('Does contract_type type affect churn')\n",
    "ax = sns.barplot(x='contract_type', y ='churn_Yes', data = train)\n",
    "\n",
    "plt.show()"
   ]
  },
  {
   "cell_type": "markdown",
   "id": "e8c3226d",
   "metadata": {},
   "source": [
    "- the highest percentage of people who churned had a month to month contract\n",
    "<br><br>\n",
    "- we assume a normal distribution because of the amount of samples being over 500\n",
    "<br>\n",
    "<b>I will now use a chi-square test to investigate weather \"contract_type\" and \"churn_Yes\" are related.</b>\n",
    "<br>\n",
    "- I will use a confidence interval of 95%\n",
    "- the resulting alpha is .05\n",
    "\n",
    "<b>Ho: contract_type and churn_Yes are independent of one another</b>\n",
    "\n",
    "<b>Ha: contract_type and churn_Yes are dependent on one another</b>"
   ]
  },
  {
   "cell_type": "code",
   "execution_count": 10,
   "id": "d4479bfc",
   "metadata": {},
   "outputs": [
    {
     "name": "stdout",
     "output_type": "stream",
     "text": [
      "p value:  1.4947896745220748e-153\n",
      "\n",
      "We reject the null hypothesis because the p value is less than alpha\n",
      "\n",
      "contract_type and churn_Yes are dependent on one another\n"
     ]
    }
   ],
   "source": [
    "#running a chi2 test\n",
    "observed = pd.crosstab(train.churn_Yes, train.contract_type)\n",
    "chi2, p, degf, expected = stats.chi2_contingency(observed)\n",
    "print('p value: ',p)\n",
    "\n",
    "print('\\nWe reject the null hypothesis because the p value is less than alpha\\n')\n",
    "print('contract_type and churn_Yes are dependent on one another')"
   ]
  },
  {
   "cell_type": "markdown",
   "id": "98f3ba0c",
   "metadata": {},
   "source": [
    "## Does device pretection affect churn"
   ]
  },
  {
   "cell_type": "code",
   "execution_count": 11,
   "id": "6fc26b40",
   "metadata": {},
   "outputs": [
    {
     "data": {
      "image/png": "[encoded data removed]",
      "text/plain": [
       "<Figure size 640x480 with 1 Axes>"
      ]
     },
     "metadata": {},
     "output_type": "display_data"
    }
   ],
   "source": [
    "#plotting device_protection and churn_Yes\n",
    "plt.title('Does device_protection affect churn')\n",
    "ax = sns.barplot(x='device_protection', y ='churn_Yes', data = train)\n",
    "\n",
    "plt.show()"
   ]
  },
  {
   "cell_type": "markdown",
   "id": "aeb277d5",
   "metadata": {},
   "source": [
    "- The highest percentage of people who have churned did not have device protection\n",
    "<br><br>\n",
    "- we assume a normal distribution because of the amount of samples being over 500\n",
    "<br>\n",
    "<b>I will now use a chi-square test to investigate weather \"device_protection\" and \"churn_Yes\" are related.</b>\n",
    "<br>\n",
    "- I will use a confidence interval of 95%\n",
    "- the resulting alpha is .05\n",
    "\n",
    "<b>Ho: device_protection and churn_Yes are independent of one another</b>\n",
    "\n",
    "<b>Ha: device_protection and churn_Yes are dependent on one another</b>"
   ]
  },
  {
   "cell_type": "code",
   "execution_count": 12,
   "id": "9eda3304",
   "metadata": {},
   "outputs": [
    {
     "name": "stdout",
     "output_type": "stream",
     "text": [
      "p value:  4.9488394966464925e-70\n",
      "\n",
      "We reject the null hypothesis because the p value is less than alpha\n",
      "\n",
      "device_protection and churn_Yes are dependent on one another\n"
     ]
    }
   ],
   "source": [
    "## running a chi2 test\n",
    "observed = pd.crosstab(train.churn_Yes, train.device_protection)\n",
    "chi2, p, degf, expected = stats.chi2_contingency(observed)\n",
    "print('p value: ',p)\n",
    "\n",
    "print('\\nWe reject the null hypothesis because the p value is less than alpha\\n')\n",
    "print('device_protection and churn_Yes are dependent on one another')"
   ]
  },
  {
   "cell_type": "markdown",
   "id": "d7db4483",
   "metadata": {},
   "source": [
    "## Does tech support type affect churn"
   ]
  },
  {
   "cell_type": "code",
   "execution_count": 13,
   "id": "dcbe8437",
   "metadata": {},
   "outputs": [
    {
     "data": {
      "image/png": "[encoded data removed]",
      "text/plain": [
       "<Figure size 640x480 with 1 Axes>"
      ]
     },
     "metadata": {},
     "output_type": "display_data"
    }
   ],
   "source": [
    "#plotting tech_support and churn_Yes\n",
    "plt.title('Does tech_support affect churn')\n",
    "ax = sns.barplot(x='tech_support', y ='churn_Yes', data = train)\n",
    "\n",
    "plt.show()"
   ]
  },
  {
   "cell_type": "markdown",
   "id": "45494bea",
   "metadata": {},
   "source": [
    "- The highest percentage of the people who have churned did not have tech support\n",
    "<br><br>\n",
    "- we assume a normal distribution because of the amount of samples being over 500\n",
    "<br>\n",
    "<b>I will now use a chi-square test to investigate weather \"tech_support\" and \"churn_Yes\" are related.</b>\n",
    "<br>\n",
    "- I will use a confidence interval of 95%\n",
    "- the resulting alpha is .05\n",
    "\n",
    "<b>Ho: tech_support and churn_Yes are independent of one another</b>\n",
    "\n",
    "<b>Ha: tech_support and churn_Yes are dependent on one another</b>"
   ]
  },
  {
   "cell_type": "code",
   "execution_count": 14,
   "id": "4212858b",
   "metadata": {},
   "outputs": [
    {
     "name": "stdout",
     "output_type": "stream",
     "text": [
      "p value:  1.3436559397518597e-99\n",
      "\n",
      "We reject the null hypothesis because the p value is less than alpha\n",
      "\n",
      "tech_support and churn_Yes are dependent on one another\n"
     ]
    }
   ],
   "source": [
    "## running a chi2 test\n",
    "observed = pd.crosstab(train.churn_Yes, train.tech_support)\n",
    "chi2, p, degf, expected = stats.chi2_contingency(observed)\n",
    "print('p value: ',p)\n",
    "\n",
    "print('\\nWe reject the null hypothesis because the p value is less than alpha\\n')\n",
    "print('tech_support and churn_Yes are dependent on one another')"
   ]
  },
  {
   "cell_type": "markdown",
   "id": "fa06bf7e",
   "metadata": {},
   "source": [
    "## Exploration Summary"
   ]
  },
  {
   "cell_type": "markdown",
   "id": "9d729769",
   "metadata": {},
   "source": [
    "- among people who have churned not having tech support and device_protection seemed to be common factors\n",
    "<br>\n",
    "- among people who have churned most had month to month contracts \n",
    "<br>\n",
    "- among the people who have churned most of them paid by electronic check"
   ]
  },
  {
   "cell_type": "markdown",
   "id": "30c06a27",
   "metadata": {},
   "source": [
    "## Features I am moving to modeling With"
   ]
  },
  {
   "cell_type": "markdown",
   "id": "e90ece15",
   "metadata": {},
   "source": [
    "- contract_type \n",
    "- tech_support\n",
    "- payment type\n",
    "- device_protection\n",
    "- reasoning (because the p value from the chi2 tests came back less than alpha meaning that they were all dependent on churn_Yes)"
   ]
  },
  {
   "cell_type": "code",
   "execution_count": 15,
   "id": "a1f9eaa8",
   "metadata": {},
   "outputs": [
    {
     "name": "stdout",
     "output_type": "stream",
     "text": [
      "Baseline 0.7346745562130178\n"
     ]
    }
   ],
   "source": [
    "# finding the most occuring value and creating a baseline column\n",
    "# figuring out the baseline\n",
    "train.churn_Yes.value_counts()\n",
    "train['baseline'] = 0\n",
    "baseline = (train.baseline == train.churn_Yes).mean()\n",
    "print('Baseline',baseline)\n"
   ]
  },
  {
   "cell_type": "markdown",
   "id": "e69b5d8f",
   "metadata": {},
   "source": [
    "## Modeling"
   ]
  },
  {
   "cell_type": "markdown",
   "id": "a36dcd95",
   "metadata": {},
   "source": [
    "- I will use my accuracy evaluation metric\n",
    "- people who haven't churned makeup 73% of the data\n",
    "\n",
    "** by guessing false customer one could achieve an accuracy of 73% <br>\n",
    "** 73% will be the baseline accuracy I use for this project <br>\n",
    "<br>\n",
    "** I will be evaluating models developed using four different model types and various hyperparameter configurations * Models will be evaluated on train and validate data * The model that performs the best will then be evaluated on test data"
   ]
  },
  {
   "cell_type": "code",
   "execution_count": 16,
   "id": "92861451",
   "metadata": {},
   "outputs": [],
   "source": [
    "# setting up the data that will be sent through my models\n",
    "\n",
    "X_train = train.loc[:, ['tech_support_Yes','device_protection_Yes','contract_type_Two year','contract_type_One year','payment_type_Credit_card','payment_type_Electronic_check','payment_type_Mailed_check']]\n",
    "X_validate = validate.loc[:, ['tech_support_Yes','device_protection_Yes','contract_type_Two year','contract_type_One year','payment_type_Credit_card','payment_type_Electronic_check','payment_type_Mailed_check']]\n",
    "X_test = validate.loc[:, ['tech_support_Yes','device_protection_Yes','contract_type_Two year','contract_type_One year','payment_type_Credit_card','payment_type_Electronic_check','payment_type_Mailed_check']]\n",
    "\n",
    "y_train = train.churn_Yes.astype('int')\n",
    "y_validate = validate.churn_Yes.astype('int')\n",
    "y_test = test.churn_Yes.astype('int')"
   ]
  },
  {
   "cell_type": "markdown",
   "id": "eabab364",
   "metadata": {},
   "source": [
    "## Decision Tree"
   ]
  },
  {
   "cell_type": "code",
   "execution_count": 17,
   "id": "65d326ac",
   "metadata": {},
   "outputs": [
    {
     "data": {
      "text/html": [
       "<style>#sk-container-id-1 {color: black;background-color: white;}#sk-container-id-1 pre{padding: 0;}#sk-container-id-1 div.sk-toggleable {background-color: white;}#sk-container-id-1 label.sk-toggleable__label {cursor: pointer;display: block;width: 100%;margin-bottom: 0;padding: 0.3em;box-sizing: border-box;text-align: center;}#sk-container-id-1 label.sk-toggleable__label-arrow:before {content: \"▸\";float: left;margin-right: 0.25em;color: #696969;}#sk-container-id-1 label.sk-toggleable__label-arrow:hover:before {color: black;}#sk-container-id-1 div.sk-estimator:hover label.sk-toggleable__label-arrow:before {color: black;}#sk-container-id-1 div.sk-toggleable__content {max-height: 0;max-width: 0;overflow: hidden;text-align: left;background-color: #f0f8ff;}#sk-container-id-1 div.sk-toggleable__content pre {margin: 0.2em;color: black;border-radius: 0.25em;background-color: #f0f8ff;}#sk-container-id-1 input.sk-toggleable__control:checked~div.sk-toggleable__content {max-height: 200px;max-width: 100%;overflow: auto;}#sk-container-id-1 input.sk-toggleable__control:checked~label.sk-toggleable__label-arrow:before {content: \"▾\";}#sk-container-id-1 div.sk-estimator input.sk-toggleable__control:checked~label.sk-toggleable__label {background-color: #d4ebff;}#sk-container-id-1 div.sk-label input.sk-toggleable__control:checked~label.sk-toggleable__label {background-color: #d4ebff;}#sk-container-id-1 input.sk-hidden--visually {border: 0;clip: rect(1px 1px 1px 1px);clip: rect(1px, 1px, 1px, 1px);height: 1px;margin: -1px;overflow: hidden;padding: 0;position: absolute;width: 1px;}#sk-container-id-1 div.sk-estimator {font-family: monospace;background-color: #f0f8ff;border: 1px dotted black;border-radius: 0.25em;box-sizing: border-box;margin-bottom: 0.5em;}#sk-container-id-1 div.sk-estimator:hover {background-color: #d4ebff;}#sk-container-id-1 div.sk-parallel-item::after {content: \"\";width: 100%;border-bottom: 1px solid gray;flex-grow: 1;}#sk-container-id-1 div.sk-label:hover label.sk-toggleable__label {background-color: #d4ebff;}#sk-container-id-1 div.sk-serial::before {content: \"\";position: absolute;border-left: 1px solid gray;box-sizing: border-box;top: 0;bottom: 0;left: 50%;z-index: 0;}#sk-container-id-1 div.sk-serial {display: flex;flex-direction: column;align-items: center;background-color: white;padding-right: 0.2em;padding-left: 0.2em;position: relative;}#sk-container-id-1 div.sk-item {position: relative;z-index: 1;}#sk-container-id-1 div.sk-parallel {display: flex;align-items: stretch;justify-content: center;background-color: white;position: relative;}#sk-container-id-1 div.sk-item::before, #sk-container-id-1 div.sk-parallel-item::before {content: \"\";position: absolute;border-left: 1px solid gray;box-sizing: border-box;top: 0;bottom: 0;left: 50%;z-index: -1;}#sk-container-id-1 div.sk-parallel-item {display: flex;flex-direction: column;z-index: 1;position: relative;background-color: white;}#sk-container-id-1 div.sk-parallel-item:first-child::after {align-self: flex-end;width: 50%;}#sk-container-id-1 div.sk-parallel-item:last-child::after {align-self: flex-start;width: 50%;}#sk-container-id-1 div.sk-parallel-item:only-child::after {width: 0;}#sk-container-id-1 div.sk-dashed-wrapped {border: 1px dashed gray;margin: 0 0.4em 0.5em 0.4em;box-sizing: border-box;padding-bottom: 0.4em;background-color: white;}#sk-container-id-1 div.sk-label label {font-family: monospace;font-weight: bold;display: inline-block;line-height: 1.2em;}#sk-container-id-1 div.sk-label-container {text-align: center;}#sk-container-id-1 div.sk-container {/* jupyter's `normalize.less` sets `[hidden] { display: none; }` but bootstrap.min.css set `[hidden] { display: none !important; }` so we also need the `!important` here to be able to override the default hidden behavior on the sphinx rendered scikit-learn.org. See: https://github.com/scikit-learn/scikit-learn/issues/21755 */display: inline-block !important;position: relative;}#sk-container-id-1 div.sk-text-repr-fallback {display: none;}</style><div id=\"sk-container-id-1\" class=\"sk-top-container\"><div class=\"sk-text-repr-fallback\"><pre>DecisionTreeClassifier(random_state=123)</pre><b>In a Jupyter environment, please rerun this cell to show the HTML representation or trust the notebook. <br />On GitHub, the HTML representation is unable to render, please try loading this page with nbviewer.org.</b></div><div class=\"sk-container\" hidden><div class=\"sk-item\"><div class=\"sk-estimator sk-toggleable\"><input class=\"sk-toggleable__control sk-hidden--visually\" id=\"sk-estimator-id-1\" type=\"checkbox\" checked><label for=\"sk-estimator-id-1\" class=\"sk-toggleable__label sk-toggleable__label-arrow\">DecisionTreeClassifier</label><div class=\"sk-toggleable__content\"><pre>DecisionTreeClassifier(random_state=123)</pre></div></div></div></div></div>"
      ],
      "text/plain": [
       "DecisionTreeClassifier(random_state=123)"
      ]
     },
     "execution_count": 17,
     "metadata": {},
     "output_type": "execute_result"
    }
   ],
   "source": [
    "#creating a Decision tree model\n",
    "tree = DecisionTreeClassifier(random_state = 123)\n",
    "tree"
   ]
  },
  {
   "cell_type": "code",
   "execution_count": 18,
   "id": "b2fb2bc7",
   "metadata": {
    "scrolled": false
   },
   "outputs": [
    {
     "data": {
      "text/plain": [
       "array([0.03185666, 0.00892682, 0.25402491, 0.26437285, 0.00294686,\n",
       "       0.43140882, 0.00646309])"
      ]
     },
     "execution_count": 18,
     "metadata": {},
     "output_type": "execute_result"
    }
   ],
   "source": [
    "# fitting the Descision tree model\n",
    "tree.fit(X_train, y_train)\n",
    "tree.feature_importances_"
   ]
  },
  {
   "cell_type": "code",
   "execution_count": 19,
   "id": "b44d0b6b",
   "metadata": {},
   "outputs": [
    {
     "name": "stdout",
     "output_type": "stream",
     "text": [
      "Baseline 0.7346745562130178\n",
      "training data prediciton 0.762603550295858\n",
      "validate data prediciton 0.7608232789212207\n"
     ]
    }
   ],
   "source": [
    "# predicting the training and validate data\n",
    "train_predict = tree.score(X_train, y_train)\n",
    "validate_predict = tree.score(X_validate, y_validate)\n",
    "print('Baseline',baseline)\n",
    "print('training data prediciton',train_predict)\n",
    "print('validate data prediciton',validate_predict)"
   ]
  },
  {
   "cell_type": "markdown",
   "id": "83a49784",
   "metadata": {},
   "source": [
    "## Random Forest"
   ]
  },
  {
   "cell_type": "code",
   "execution_count": 20,
   "id": "937899c8",
   "metadata": {},
   "outputs": [
    {
     "data": {
      "text/html": [
       "<style>#sk-container-id-2 {color: black;background-color: white;}#sk-container-id-2 pre{padding: 0;}#sk-container-id-2 div.sk-toggleable {background-color: white;}#sk-container-id-2 label.sk-toggleable__label {cursor: pointer;display: block;width: 100%;margin-bottom: 0;padding: 0.3em;box-sizing: border-box;text-align: center;}#sk-container-id-2 label.sk-toggleable__label-arrow:before {content: \"▸\";float: left;margin-right: 0.25em;color: #696969;}#sk-container-id-2 label.sk-toggleable__label-arrow:hover:before {color: black;}#sk-container-id-2 div.sk-estimator:hover label.sk-toggleable__label-arrow:before {color: black;}#sk-container-id-2 div.sk-toggleable__content {max-height: 0;max-width: 0;overflow: hidden;text-align: left;background-color: #f0f8ff;}#sk-container-id-2 div.sk-toggleable__content pre {margin: 0.2em;color: black;border-radius: 0.25em;background-color: #f0f8ff;}#sk-container-id-2 input.sk-toggleable__control:checked~div.sk-toggleable__content {max-height: 200px;max-width: 100%;overflow: auto;}#sk-container-id-2 input.sk-toggleable__control:checked~label.sk-toggleable__label-arrow:before {content: \"▾\";}#sk-container-id-2 div.sk-estimator input.sk-toggleable__control:checked~label.sk-toggleable__label {background-color: #d4ebff;}#sk-container-id-2 div.sk-label input.sk-toggleable__control:checked~label.sk-toggleable__label {background-color: #d4ebff;}#sk-container-id-2 input.sk-hidden--visually {border: 0;clip: rect(1px 1px 1px 1px);clip: rect(1px, 1px, 1px, 1px);height: 1px;margin: -1px;overflow: hidden;padding: 0;position: absolute;width: 1px;}#sk-container-id-2 div.sk-estimator {font-family: monospace;background-color: #f0f8ff;border: 1px dotted black;border-radius: 0.25em;box-sizing: border-box;margin-bottom: 0.5em;}#sk-container-id-2 div.sk-estimator:hover {background-color: #d4ebff;}#sk-container-id-2 div.sk-parallel-item::after {content: \"\";width: 100%;border-bottom: 1px solid gray;flex-grow: 1;}#sk-container-id-2 div.sk-label:hover label.sk-toggleable__label {background-color: #d4ebff;}#sk-container-id-2 div.sk-serial::before {content: \"\";position: absolute;border-left: 1px solid gray;box-sizing: border-box;top: 0;bottom: 0;left: 50%;z-index: 0;}#sk-container-id-2 div.sk-serial {display: flex;flex-direction: column;align-items: center;background-color: white;padding-right: 0.2em;padding-left: 0.2em;position: relative;}#sk-container-id-2 div.sk-item {position: relative;z-index: 1;}#sk-container-id-2 div.sk-parallel {display: flex;align-items: stretch;justify-content: center;background-color: white;position: relative;}#sk-container-id-2 div.sk-item::before, #sk-container-id-2 div.sk-parallel-item::before {content: \"\";position: absolute;border-left: 1px solid gray;box-sizing: border-box;top: 0;bottom: 0;left: 50%;z-index: -1;}#sk-container-id-2 div.sk-parallel-item {display: flex;flex-direction: column;z-index: 1;position: relative;background-color: white;}#sk-container-id-2 div.sk-parallel-item:first-child::after {align-self: flex-end;width: 50%;}#sk-container-id-2 div.sk-parallel-item:last-child::after {align-self: flex-start;width: 50%;}#sk-container-id-2 div.sk-parallel-item:only-child::after {width: 0;}#sk-container-id-2 div.sk-dashed-wrapped {border: 1px dashed gray;margin: 0 0.4em 0.5em 0.4em;box-sizing: border-box;padding-bottom: 0.4em;background-color: white;}#sk-container-id-2 div.sk-label label {font-family: monospace;font-weight: bold;display: inline-block;line-height: 1.2em;}#sk-container-id-2 div.sk-label-container {text-align: center;}#sk-container-id-2 div.sk-container {/* jupyter's `normalize.less` sets `[hidden] { display: none; }` but bootstrap.min.css set `[hidden] { display: none !important; }` so we also need the `!important` here to be able to override the default hidden behavior on the sphinx rendered scikit-learn.org. See: https://github.com/scikit-learn/scikit-learn/issues/21755 */display: inline-block !important;position: relative;}#sk-container-id-2 div.sk-text-repr-fallback {display: none;}</style><div id=\"sk-container-id-2\" class=\"sk-top-container\"><div class=\"sk-text-repr-fallback\"><pre>RandomForestClassifier(random_state=123)</pre><b>In a Jupyter environment, please rerun this cell to show the HTML representation or trust the notebook. <br />On GitHub, the HTML representation is unable to render, please try loading this page with nbviewer.org.</b></div><div class=\"sk-container\" hidden><div class=\"sk-item\"><div class=\"sk-estimator sk-toggleable\"><input class=\"sk-toggleable__control sk-hidden--visually\" id=\"sk-estimator-id-2\" type=\"checkbox\" checked><label for=\"sk-estimator-id-2\" class=\"sk-toggleable__label sk-toggleable__label-arrow\">RandomForestClassifier</label><div class=\"sk-toggleable__content\"><pre>RandomForestClassifier(random_state=123)</pre></div></div></div></div></div>"
      ],
      "text/plain": [
       "RandomForestClassifier(random_state=123)"
      ]
     },
     "execution_count": 20,
     "metadata": {},
     "output_type": "execute_result"
    }
   ],
   "source": [
    "# creating a random forest model\n",
    "forest = RandomForestClassifier(random_state = 123)\n",
    "forest.fit(X_train, y_train)"
   ]
  },
  {
   "cell_type": "code",
   "execution_count": 21,
   "id": "ebf5102c",
   "metadata": {},
   "outputs": [
    {
     "name": "stdout",
     "output_type": "stream",
     "text": [
      "Baseline 0.7346745562130178\n",
      "training data prediciton 0.762603550295858\n",
      "validate data prediciton 0.7608232789212207\n"
     ]
    }
   ],
   "source": [
    "# predicting the training and validate data\n",
    "train_predict = forest.score(X_train, y_train)\n",
    "\n",
    "validate_predict = forest.score(X_validate, y_validate)\n",
    "\n",
    "print('Baseline',baseline)\n",
    "print('training data prediciton', train_predict)\n",
    "print('validate data prediciton', validate_predict)"
   ]
  },
  {
   "cell_type": "markdown",
   "id": "dafe8c35",
   "metadata": {},
   "source": [
    "## Logistic Regression"
   ]
  },
  {
   "cell_type": "code",
   "execution_count": 22,
   "id": "97007c02",
   "metadata": {},
   "outputs": [
    {
     "data": {
      "text/html": [
       "<style>#sk-container-id-3 {color: black;background-color: white;}#sk-container-id-3 pre{padding: 0;}#sk-container-id-3 div.sk-toggleable {background-color: white;}#sk-container-id-3 label.sk-toggleable__label {cursor: pointer;display: block;width: 100%;margin-bottom: 0;padding: 0.3em;box-sizing: border-box;text-align: center;}#sk-container-id-3 label.sk-toggleable__label-arrow:before {content: \"▸\";float: left;margin-right: 0.25em;color: #696969;}#sk-container-id-3 label.sk-toggleable__label-arrow:hover:before {color: black;}#sk-container-id-3 div.sk-estimator:hover label.sk-toggleable__label-arrow:before {color: black;}#sk-container-id-3 div.sk-toggleable__content {max-height: 0;max-width: 0;overflow: hidden;text-align: left;background-color: #f0f8ff;}#sk-container-id-3 div.sk-toggleable__content pre {margin: 0.2em;color: black;border-radius: 0.25em;background-color: #f0f8ff;}#sk-container-id-3 input.sk-toggleable__control:checked~div.sk-toggleable__content {max-height: 200px;max-width: 100%;overflow: auto;}#sk-container-id-3 input.sk-toggleable__control:checked~label.sk-toggleable__label-arrow:before {content: \"▾\";}#sk-container-id-3 div.sk-estimator input.sk-toggleable__control:checked~label.sk-toggleable__label {background-color: #d4ebff;}#sk-container-id-3 div.sk-label input.sk-toggleable__control:checked~label.sk-toggleable__label {background-color: #d4ebff;}#sk-container-id-3 input.sk-hidden--visually {border: 0;clip: rect(1px 1px 1px 1px);clip: rect(1px, 1px, 1px, 1px);height: 1px;margin: -1px;overflow: hidden;padding: 0;position: absolute;width: 1px;}#sk-container-id-3 div.sk-estimator {font-family: monospace;background-color: #f0f8ff;border: 1px dotted black;border-radius: 0.25em;box-sizing: border-box;margin-bottom: 0.5em;}#sk-container-id-3 div.sk-estimator:hover {background-color: #d4ebff;}#sk-container-id-3 div.sk-parallel-item::after {content: \"\";width: 100%;border-bottom: 1px solid gray;flex-grow: 1;}#sk-container-id-3 div.sk-label:hover label.sk-toggleable__label {background-color: #d4ebff;}#sk-container-id-3 div.sk-serial::before {content: \"\";position: absolute;border-left: 1px solid gray;box-sizing: border-box;top: 0;bottom: 0;left: 50%;z-index: 0;}#sk-container-id-3 div.sk-serial {display: flex;flex-direction: column;align-items: center;background-color: white;padding-right: 0.2em;padding-left: 0.2em;position: relative;}#sk-container-id-3 div.sk-item {position: relative;z-index: 1;}#sk-container-id-3 div.sk-parallel {display: flex;align-items: stretch;justify-content: center;background-color: white;position: relative;}#sk-container-id-3 div.sk-item::before, #sk-container-id-3 div.sk-parallel-item::before {content: \"\";position: absolute;border-left: 1px solid gray;box-sizing: border-box;top: 0;bottom: 0;left: 50%;z-index: -1;}#sk-container-id-3 div.sk-parallel-item {display: flex;flex-direction: column;z-index: 1;position: relative;background-color: white;}#sk-container-id-3 div.sk-parallel-item:first-child::after {align-self: flex-end;width: 50%;}#sk-container-id-3 div.sk-parallel-item:last-child::after {align-self: flex-start;width: 50%;}#sk-container-id-3 div.sk-parallel-item:only-child::after {width: 0;}#sk-container-id-3 div.sk-dashed-wrapped {border: 1px dashed gray;margin: 0 0.4em 0.5em 0.4em;box-sizing: border-box;padding-bottom: 0.4em;background-color: white;}#sk-container-id-3 div.sk-label label {font-family: monospace;font-weight: bold;display: inline-block;line-height: 1.2em;}#sk-container-id-3 div.sk-label-container {text-align: center;}#sk-container-id-3 div.sk-container {/* jupyter's `normalize.less` sets `[hidden] { display: none; }` but bootstrap.min.css set `[hidden] { display: none !important; }` so we also need the `!important` here to be able to override the default hidden behavior on the sphinx rendered scikit-learn.org. See: https://github.com/scikit-learn/scikit-learn/issues/21755 */display: inline-block !important;position: relative;}#sk-container-id-3 div.sk-text-repr-fallback {display: none;}</style><div id=\"sk-container-id-3\" class=\"sk-top-container\"><div class=\"sk-text-repr-fallback\"><pre>LogisticRegression(random_state=123)</pre><b>In a Jupyter environment, please rerun this cell to show the HTML representation or trust the notebook. <br />On GitHub, the HTML representation is unable to render, please try loading this page with nbviewer.org.</b></div><div class=\"sk-container\" hidden><div class=\"sk-item\"><div class=\"sk-estimator sk-toggleable\"><input class=\"sk-toggleable__control sk-hidden--visually\" id=\"sk-estimator-id-3\" type=\"checkbox\" checked><label for=\"sk-estimator-id-3\" class=\"sk-toggleable__label sk-toggleable__label-arrow\">LogisticRegression</label><div class=\"sk-toggleable__content\"><pre>LogisticRegression(random_state=123)</pre></div></div></div></div></div>"
      ],
      "text/plain": [
       "LogisticRegression(random_state=123)"
      ]
     },
     "execution_count": 22,
     "metadata": {},
     "output_type": "execute_result"
    }
   ],
   "source": [
    "# creating a Logistic Regression model\n",
    "\n",
    "logit = LogisticRegression(random_state= 123)\n",
    "logit.fit(X_train, y_train)"
   ]
  },
  {
   "cell_type": "code",
   "execution_count": 23,
   "id": "0e147d4a",
   "metadata": {},
   "outputs": [
    {
     "name": "stdout",
     "output_type": "stream",
     "text": [
      "Baseline 0.7346745562130178\n",
      "training data prediciton 0.757396449704142\n",
      "validate data prediciton 0.7551454932576295\n"
     ]
    }
   ],
   "source": [
    "# predicting the training and validate data\n",
    "train_predict = logit.score(X_train, y_train)\n",
    "\n",
    "validate_predict = logit.score(X_validate, y_validate)\n",
    "print('Baseline',baseline)\n",
    "print('training data prediciton', train_predict)\n",
    "print('validate data prediciton', validate_predict)"
   ]
  },
  {
   "cell_type": "markdown",
   "id": "82a482f7",
   "metadata": {},
   "source": [
    "## KNN"
   ]
  },
  {
   "cell_type": "code",
   "execution_count": 24,
   "id": "041c27f3",
   "metadata": {},
   "outputs": [
    {
     "data": {
      "text/html": [
       "<style>#sk-container-id-4 {color: black;background-color: white;}#sk-container-id-4 pre{padding: 0;}#sk-container-id-4 div.sk-toggleable {background-color: white;}#sk-container-id-4 label.sk-toggleable__label {cursor: pointer;display: block;width: 100%;margin-bottom: 0;padding: 0.3em;box-sizing: border-box;text-align: center;}#sk-container-id-4 label.sk-toggleable__label-arrow:before {content: \"▸\";float: left;margin-right: 0.25em;color: #696969;}#sk-container-id-4 label.sk-toggleable__label-arrow:hover:before {color: black;}#sk-container-id-4 div.sk-estimator:hover label.sk-toggleable__label-arrow:before {color: black;}#sk-container-id-4 div.sk-toggleable__content {max-height: 0;max-width: 0;overflow: hidden;text-align: left;background-color: #f0f8ff;}#sk-container-id-4 div.sk-toggleable__content pre {margin: 0.2em;color: black;border-radius: 0.25em;background-color: #f0f8ff;}#sk-container-id-4 input.sk-toggleable__control:checked~div.sk-toggleable__content {max-height: 200px;max-width: 100%;overflow: auto;}#sk-container-id-4 input.sk-toggleable__control:checked~label.sk-toggleable__label-arrow:before {content: \"▾\";}#sk-container-id-4 div.sk-estimator input.sk-toggleable__control:checked~label.sk-toggleable__label {background-color: #d4ebff;}#sk-container-id-4 div.sk-label input.sk-toggleable__control:checked~label.sk-toggleable__label {background-color: #d4ebff;}#sk-container-id-4 input.sk-hidden--visually {border: 0;clip: rect(1px 1px 1px 1px);clip: rect(1px, 1px, 1px, 1px);height: 1px;margin: -1px;overflow: hidden;padding: 0;position: absolute;width: 1px;}#sk-container-id-4 div.sk-estimator {font-family: monospace;background-color: #f0f8ff;border: 1px dotted black;border-radius: 0.25em;box-sizing: border-box;margin-bottom: 0.5em;}#sk-container-id-4 div.sk-estimator:hover {background-color: #d4ebff;}#sk-container-id-4 div.sk-parallel-item::after {content: \"\";width: 100%;border-bottom: 1px solid gray;flex-grow: 1;}#sk-container-id-4 div.sk-label:hover label.sk-toggleable__label {background-color: #d4ebff;}#sk-container-id-4 div.sk-serial::before {content: \"\";position: absolute;border-left: 1px solid gray;box-sizing: border-box;top: 0;bottom: 0;left: 50%;z-index: 0;}#sk-container-id-4 div.sk-serial {display: flex;flex-direction: column;align-items: center;background-color: white;padding-right: 0.2em;padding-left: 0.2em;position: relative;}#sk-container-id-4 div.sk-item {position: relative;z-index: 1;}#sk-container-id-4 div.sk-parallel {display: flex;align-items: stretch;justify-content: center;background-color: white;position: relative;}#sk-container-id-4 div.sk-item::before, #sk-container-id-4 div.sk-parallel-item::before {content: \"\";position: absolute;border-left: 1px solid gray;box-sizing: border-box;top: 0;bottom: 0;left: 50%;z-index: -1;}#sk-container-id-4 div.sk-parallel-item {display: flex;flex-direction: column;z-index: 1;position: relative;background-color: white;}#sk-container-id-4 div.sk-parallel-item:first-child::after {align-self: flex-end;width: 50%;}#sk-container-id-4 div.sk-parallel-item:last-child::after {align-self: flex-start;width: 50%;}#sk-container-id-4 div.sk-parallel-item:only-child::after {width: 0;}#sk-container-id-4 div.sk-dashed-wrapped {border: 1px dashed gray;margin: 0 0.4em 0.5em 0.4em;box-sizing: border-box;padding-bottom: 0.4em;background-color: white;}#sk-container-id-4 div.sk-label label {font-family: monospace;font-weight: bold;display: inline-block;line-height: 1.2em;}#sk-container-id-4 div.sk-label-container {text-align: center;}#sk-container-id-4 div.sk-container {/* jupyter's `normalize.less` sets `[hidden] { display: none; }` but bootstrap.min.css set `[hidden] { display: none !important; }` so we also need the `!important` here to be able to override the default hidden behavior on the sphinx rendered scikit-learn.org. See: https://github.com/scikit-learn/scikit-learn/issues/21755 */display: inline-block !important;position: relative;}#sk-container-id-4 div.sk-text-repr-fallback {display: none;}</style><div id=\"sk-container-id-4\" class=\"sk-top-container\"><div class=\"sk-text-repr-fallback\"><pre>KNeighborsClassifier(n_neighbors=1)</pre><b>In a Jupyter environment, please rerun this cell to show the HTML representation or trust the notebook. <br />On GitHub, the HTML representation is unable to render, please try loading this page with nbviewer.org.</b></div><div class=\"sk-container\" hidden><div class=\"sk-item\"><div class=\"sk-estimator sk-toggleable\"><input class=\"sk-toggleable__control sk-hidden--visually\" id=\"sk-estimator-id-4\" type=\"checkbox\" checked><label for=\"sk-estimator-id-4\" class=\"sk-toggleable__label sk-toggleable__label-arrow\">KNeighborsClassifier</label><div class=\"sk-toggleable__content\"><pre>KNeighborsClassifier(n_neighbors=1)</pre></div></div></div></div></div>"
      ],
      "text/plain": [
       "KNeighborsClassifier(n_neighbors=1)"
      ]
     },
     "execution_count": 24,
     "metadata": {},
     "output_type": "execute_result"
    }
   ],
   "source": [
    "# creating a KNN model\n",
    "\n",
    "knn = KNeighborsClassifier(n_neighbors=1,weights='uniform')\n",
    "knn.fit(X_train, y_train)"
   ]
  },
  {
   "cell_type": "code",
   "execution_count": 25,
   "id": "be4e4ae0",
   "metadata": {},
   "outputs": [
    {
     "name": "stdout",
     "output_type": "stream",
     "text": [
      "Baseline 0.7346745562130178\n",
      "training data prediciton 0.6781065088757396\n",
      "validate data prediciton 0.687721788502484\n"
     ]
    },
    {
     "name": "stderr",
     "output_type": "stream",
     "text": [
      "/opt/homebrew/anaconda3/lib/python3.9/site-packages/sklearn/neighbors/_classification.py:237: FutureWarning: Unlike other reduction functions (e.g. `skew`, `kurtosis`), the default behavior of `mode` typically preserves the axis it acts along. In SciPy 1.11.0, this behavior will change: the default value of `keepdims` will become False, the `axis` over which the statistic is taken will be eliminated, and the value None will no longer be accepted. Set `keepdims` to True or False to avoid this warning.\n",
      "  mode, _ = stats.mode(_y[neigh_ind, k], axis=1)\n",
      "/opt/homebrew/anaconda3/lib/python3.9/site-packages/sklearn/neighbors/_classification.py:237: FutureWarning: Unlike other reduction functions (e.g. `skew`, `kurtosis`), the default behavior of `mode` typically preserves the axis it acts along. In SciPy 1.11.0, this behavior will change: the default value of `keepdims` will become False, the `axis` over which the statistic is taken will be eliminated, and the value None will no longer be accepted. Set `keepdims` to True or False to avoid this warning.\n",
      "  mode, _ = stats.mode(_y[neigh_ind, k], axis=1)\n"
     ]
    }
   ],
   "source": [
    "# predicting the training and validate data\n",
    "train_predict = knn.score(X_train, y_train)\n",
    "\n",
    "validate_predict = knn.score(X_validate, y_validate)\n",
    "print('Baseline',baseline)\n",
    "print('training data prediciton', train_predict)\n",
    "print('validate data prediciton', validate_predict)"
   ]
  },
  {
   "cell_type": "markdown",
   "id": "d0898591",
   "metadata": {},
   "source": [
    "## Modeling Summary"
   ]
  },
  {
   "cell_type": "markdown",
   "id": "c0bfaae9",
   "metadata": {},
   "source": [
    "- DecisionTree and Random forest performed the best at 3% accuracy above the baseline\n",
    "- Logistic Regression performed 2% above the baseline\n",
    "- KNN performed the worst at 6% under baseline"
   ]
  },
  {
   "cell_type": "markdown",
   "id": "eb5ebaae",
   "metadata": {},
   "source": [
    "# Conclusions"
   ]
  },
  {
   "cell_type": "markdown",
   "id": "6fb5ce3e",
   "metadata": {},
   "source": [
    "## Exploration"
   ]
  },
  {
   "cell_type": "markdown",
   "id": "90055884",
   "metadata": {},
   "source": [
    "- A little above 40% of the people who churned paid by electronic check\n",
    "- The highest percentage of people who churned had a month to month contract\n",
    "- The Highest percentage of people who have churned did not have device protection\n",
    "- The highest percentage of the people who have churned did not have tech support"
   ]
  },
  {
   "cell_type": "markdown",
   "id": "9a2e92a1",
   "metadata": {},
   "source": [
    "## modeling"
   ]
  },
  {
   "cell_type": "markdown",
   "id": "0f1f8fd5",
   "metadata": {},
   "source": [
    "<b>The final model failed to significantly outperform the baseline. Possible reasons include:</b>"
   ]
  },
  {
   "cell_type": "markdown",
   "id": "ff265915",
   "metadata": {},
   "source": [
    "- only 35 percent of the total customer base had device protection\n",
    "- only 29 percent of the total customer base had tech support\n",
    "- payment_type_Electronic_check might have held too much weight in the descision making process at 43 percent\n"
   ]
  },
  {
   "cell_type": "markdown",
   "id": "fd95d094",
   "metadata": {},
   "source": [
    "## Recommendations"
   ]
  },
  {
   "cell_type": "markdown",
   "id": "722a400c",
   "metadata": {},
   "source": [
    "#### Recap"
   ]
  },
  {
   "cell_type": "markdown",
   "id": "850bda33",
   "metadata": {},
   "source": [
    "- Churn was dependent on payment type \n",
    "- payment type held the highest importance in the descision making process for the models\n",
    "- the majority of people who churned paid by electronic check"
   ]
  },
  {
   "cell_type": "markdown",
   "id": "3e152147",
   "metadata": {},
   "source": [
    "### solution"
   ]
  },
  {
   "cell_type": "markdown",
   "id": "7cc714c8",
   "metadata": {},
   "source": [
    "- 10 percent off the monthly bill for 3 months for enrolling in any other form of bill payment\n",
    "- tech support cost reduction for 3 months on 1 year contracts for enrolling in bill payment other than electronic check\n",
    "- 2 year contract service cost reduction for enrolling in bill payment other than electronic check"
   ]
  },
  {
   "cell_type": "markdown",
   "id": "b4290fe9",
   "metadata": {},
   "source": [
    "## Next Steps"
   ]
  },
  {
   "cell_type": "markdown",
   "id": "c1934c4c",
   "metadata": {},
   "source": [
    "- look for other catagories that churn_Yes is dependent on \n",
    "- look for other catagories that affect a higher percentage of the overall customer base\n",
    "- inputing different information for the modeling tests"
   ]
  },
  {
   "cell_type": "markdown",
   "id": "565dcab9",
   "metadata": {},
   "source": [
    "## Calculations for finding out how effective the catagories are to predict churn"
   ]
  },
  {
   "cell_type": "code",
   "execution_count": 26,
   "id": "35bab39a",
   "metadata": {},
   "outputs": [
    {
     "data": {
      "text/plain": [
       "array([0.03185666, 0.00892682, 0.25402491, 0.26437285, 0.00294686,\n",
       "       0.43140882, 0.00646309])"
      ]
     },
     "execution_count": 26,
     "metadata": {},
     "output_type": "execute_result"
    }
   ],
   "source": [
    "#getting how relevent the columns I chose were to the overall dataset\n",
    "#got the importance of each column vs one another\n",
    "device_protection_percentage = (train.device_protection_Yes == 1).mean()\n",
    "tech_support_Yes_percentage = (train.tech_support_Yes == 1).mean()\n",
    "contract_type_One_year_percentage = (train['contract_type_One year'] == 1).mean()\n",
    "the_weight = tree.feature_importances_\n",
    "the_weight\n"
   ]
  },
  {
   "cell_type": "markdown",
   "id": "87a868ce",
   "metadata": {},
   "source": [
    "## Code for making the .CSV"
   ]
  },
  {
   "cell_type": "code",
   "execution_count": 27,
   "id": "08611987",
   "metadata": {
    "scrolled": false
   },
   "outputs": [
    {
     "name": "stdout",
     "output_type": "stream",
     "text": [
      "     customer_id  Probability_of_churn Churn_predict\n",
      "3160  4531-AUZNK              0.797297            no\n",
      "1577  2296-DKZFP              0.857143            no\n",
      "6823  9692-TUSXH              0.440510           yes\n",
      "3615  5129-JLPIS              0.992063            no\n",
      "882   1273-MTETI              0.440510           yes\n",
      "...          ...                   ...           ...\n",
      "1097  1597-FZREH              0.440510           yes\n",
      "6441  9117-SHLZX              0.639344            no\n",
      "5985  8441-SHIPE              0.911765            no\n",
      "2452  3511-BFTJW              0.972973            no\n",
      "983   1428-GTBJJ              0.886364            no\n",
      "\n",
      "[1409 rows x 3 columns]\n"
     ]
    }
   ],
   "source": [
    "## created the CSV file and saved it\n",
    "\n",
    "the_percentages = []\n",
    "churn_predict = []\n",
    "\n",
    "for i in tree.predict_proba(X_test):\n",
    "    the_percentages.append(i[0])\n",
    "    if i[0] > .5:\n",
    "        churn_predict.append('no')\n",
    "    else:\n",
    "        churn_predict.append('yes')\n",
    "     \n",
    "    \n",
    "the_csv_dataframe = pd.DataFrame({'customer_id':test.customer_id, \n",
    "                                  'Probability_of_churn':the_percentages,\n",
    "                                  'Churn_predict':churn_predict\n",
    "                                 })\n",
    "the_csv_dataframe.to_csv('Churn_Predictions.csv')\n",
    "\n",
    "print(the_csv_dataframe)"
   ]
  },
  {
   "cell_type": "markdown",
   "id": "9c66127f",
   "metadata": {},
   "source": [
    "## pulling the Data from the CSV"
   ]
  },
  {
   "cell_type": "code",
   "execution_count": 28,
   "id": "63bf69b8",
   "metadata": {},
   "outputs": [
    {
     "data": {
      "text/html": [
       "<div>\n",
       "<style scoped>\n",
       "    .dataframe tbody tr th:only-of-type {\n",
       "        vertical-align: middle;\n",
       "    }\n",
       "\n",
       "    .dataframe tbody tr th {\n",
       "        vertical-align: top;\n",
       "    }\n",
       "\n",
       "    .dataframe thead th {\n",
       "        text-align: right;\n",
       "    }\n",
       "</style>\n",
       "<table border=\"1\" class=\"dataframe\">\n",
       "  <thead>\n",
       "    <tr style=\"text-align: right;\">\n",
       "      <th></th>\n",
       "      <th>customer_id</th>\n",
       "      <th>Probability_of_churn</th>\n",
       "      <th>Churn_predict</th>\n",
       "    </tr>\n",
       "  </thead>\n",
       "  <tbody>\n",
       "    <tr>\n",
       "      <th>0</th>\n",
       "      <td>4531-AUZNK</td>\n",
       "      <td>0.797297</td>\n",
       "      <td>no</td>\n",
       "    </tr>\n",
       "    <tr>\n",
       "      <th>1</th>\n",
       "      <td>2296-DKZFP</td>\n",
       "      <td>0.857143</td>\n",
       "      <td>no</td>\n",
       "    </tr>\n",
       "    <tr>\n",
       "      <th>2</th>\n",
       "      <td>9692-TUSXH</td>\n",
       "      <td>0.440510</td>\n",
       "      <td>yes</td>\n",
       "    </tr>\n",
       "    <tr>\n",
       "      <th>3</th>\n",
       "      <td>5129-JLPIS</td>\n",
       "      <td>0.992063</td>\n",
       "      <td>no</td>\n",
       "    </tr>\n",
       "    <tr>\n",
       "      <th>4</th>\n",
       "      <td>1273-MTETI</td>\n",
       "      <td>0.440510</td>\n",
       "      <td>yes</td>\n",
       "    </tr>\n",
       "    <tr>\n",
       "      <th>...</th>\n",
       "      <td>...</td>\n",
       "      <td>...</td>\n",
       "      <td>...</td>\n",
       "    </tr>\n",
       "    <tr>\n",
       "      <th>1404</th>\n",
       "      <td>1597-FZREH</td>\n",
       "      <td>0.440510</td>\n",
       "      <td>yes</td>\n",
       "    </tr>\n",
       "    <tr>\n",
       "      <th>1405</th>\n",
       "      <td>9117-SHLZX</td>\n",
       "      <td>0.639344</td>\n",
       "      <td>no</td>\n",
       "    </tr>\n",
       "    <tr>\n",
       "      <th>1406</th>\n",
       "      <td>8441-SHIPE</td>\n",
       "      <td>0.911765</td>\n",
       "      <td>no</td>\n",
       "    </tr>\n",
       "    <tr>\n",
       "      <th>1407</th>\n",
       "      <td>3511-BFTJW</td>\n",
       "      <td>0.972973</td>\n",
       "      <td>no</td>\n",
       "    </tr>\n",
       "    <tr>\n",
       "      <th>1408</th>\n",
       "      <td>1428-GTBJJ</td>\n",
       "      <td>0.886364</td>\n",
       "      <td>no</td>\n",
       "    </tr>\n",
       "  </tbody>\n",
       "</table>\n",
       "<p>1409 rows × 3 columns</p>\n",
       "</div>"
      ],
      "text/plain": [
       "     customer_id  Probability_of_churn Churn_predict\n",
       "0     4531-AUZNK              0.797297            no\n",
       "1     2296-DKZFP              0.857143            no\n",
       "2     9692-TUSXH              0.440510           yes\n",
       "3     5129-JLPIS              0.992063            no\n",
       "4     1273-MTETI              0.440510           yes\n",
       "...          ...                   ...           ...\n",
       "1404  1597-FZREH              0.440510           yes\n",
       "1405  9117-SHLZX              0.639344            no\n",
       "1406  8441-SHIPE              0.911765            no\n",
       "1407  3511-BFTJW              0.972973            no\n",
       "1408  1428-GTBJJ              0.886364            no\n",
       "\n",
       "[1409 rows x 3 columns]"
      ]
     },
     "execution_count": 28,
     "metadata": {},
     "output_type": "execute_result"
    }
   ],
   "source": [
    "# pulling the CSV file to make sure it looked ok\n",
    "df = pd.read_csv('Churn_Predictions.csv')\n",
    "df.drop(columns = 'Unnamed: 0')"
   ]
  },
  {
   "cell_type": "markdown",
   "id": "36c980ea",
   "metadata": {},
   "source": [
    "## Predicting the test data for random tree"
   ]
  },
  {
   "cell_type": "code",
   "execution_count": 29,
   "id": "1e3cda5c",
   "metadata": {},
   "outputs": [
    {
     "name": "stdout",
     "output_type": "stream",
     "text": [
      "Baseline 0.7346745562130178\n",
      "test data prediciton 0.6529453513129879\n"
     ]
    }
   ],
   "source": [
    "#ran the random tree prediction test data\n",
    "test_predict = forest.score(X_test, y_test)\n",
    "\n",
    "print('Baseline',baseline)\n",
    "print('test data prediciton', test_predict)"
   ]
  }
 ],
 "metadata": {
  "kernelspec": {
   "display_name": "Python 3 (ipykernel)",
   "language": "python",
   "name": "python3"
  },
  "language_info": {
   "codemirror_mode": {
    "name": "ipython",
    "version": 3
   },
   "file_extension": ".py",
   "mimetype": "text/x-python",
   "name": "python",
   "nbconvert_exporter": "python",
   "pygments_lexer": "ipython3",
   "version": "3.9.13"
  }
 },
 "nbformat": 4,
 "nbformat_minor": 5
}
