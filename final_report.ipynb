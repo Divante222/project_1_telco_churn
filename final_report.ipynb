{
 "cells": [
  {
   "cell_type": "markdown",
   "id": "966c5cd0",
   "metadata": {},
   "source": [
    "## Telco Churn "
   ]
  },
  {
   "cell_type": "markdown",
   "id": "a7458143",
   "metadata": {},
   "source": [
    "## Goal:\n",
    "\n"
   ]
  },
  {
   "cell_type": "markdown",
   "id": "8adfb869",
   "metadata": {},
   "source": [
    "## imports"
   ]
  },
  {
   "cell_type": "code",
   "execution_count": 1,
   "id": "866f7b10",
   "metadata": {},
   "outputs": [],
   "source": [
    "import numpy as np\n",
    "import pandas as pd\n",
    "import math\n",
    "import seaborn as sns\n",
    "from sklearn.metrics import classification_report, confusion_matrix\n",
    "import itertools\n",
    "import numpy as np\n",
    "import wrangle\n",
    "from scipy import stats\n",
    "from sklearn.linear_model import LogisticRegression\n",
    "import matplotlib.pyplot as plt\n",
    "from sklearn.tree import DecisionTreeClassifier\n",
    "from sklearn.tree import plot_tree\n",
    "from sklearn.ensemble import RandomForestClassifier\n",
    "from sklearn.neighbors import KNeighborsClassifier\n",
    "\n",
    "pd.set_option('display.max_rows', 1000)\n",
    "pd.set_option('display.max_columns', 1000)\n",
    "pd.set_option('display.width', 1000)"
   ]
  },
  {
   "cell_type": "markdown",
   "id": "308762b6",
   "metadata": {},
   "source": [
    "## Acquire\n",
    "\n",
    "- Data acquired from SQL database\n",
    "- It contained 7043 rows and 24 columns before cleaning\n",
    "- Each row represents a telco customer\n",
    "- Each column represents a catagory of data"
   ]
  },
  {
   "cell_type": "markdown",
   "id": "90420274",
   "metadata": {},
   "source": [
    "## Prepare\n",
    "\n",
    "- made dummy columns of the datatype object columns to get a numeric\n",
    "for those columns\n",
    "\n",
    "- checked for nulls in the data and converted the total_charges column\n",
    "to 0 because those customers had zero tenure\n",
    "\n",
    "- checked that the column datatypes were appropriate\n",
    "\n",
    "- dropped the columns 'payment_type_id','internet_service_type_id','contract_type_id' because the information was vague\n",
    "\n",
    "- Split data into train, validate and test (approx. 60/20/20), stratifying on 'churn_yes'\n",
    "\n",
    "- Outliers have not been removed for this iteration of the project\n"
   ]
  },
  {
   "cell_type": "code",
   "execution_count": 3,
   "id": "a7d2ac54",
   "metadata": {},
   "outputs": [
    {
     "name": "stdout",
     "output_type": "stream",
     "text": [
      "<class 'pandas.core.frame.DataFrame'>\n",
      "RangeIndex: 7043 entries, 0 to 7042\n",
      "Data columns (total 42 columns):\n",
      " #   Column                               Non-Null Count  Dtype  \n",
      "---  ------                               --------------  -----  \n",
      " 0   customer_id                          7043 non-null   object \n",
      " 1   gender                               7043 non-null   object \n",
      " 2   senior_citizen                       7043 non-null   object \n",
      " 3   partner                              7043 non-null   object \n",
      " 4   dependents                           7043 non-null   object \n",
      " 5   tenure                               7043 non-null   object \n",
      " 6   phone_service                        7043 non-null   object \n",
      " 7   multiple_lines                       7043 non-null   object \n",
      " 8   online_security                      7043 non-null   object \n",
      " 9   online_backup                        7043 non-null   object \n",
      " 10  device_protection                    7043 non-null   object \n",
      " 11  tech_support                         7043 non-null   object \n",
      " 12  streaming_tv                         7043 non-null   object \n",
      " 13  streaming_movies                     7043 non-null   object \n",
      " 14  paperless_billing                    7043 non-null   object \n",
      " 15  monthly_charges                      7043 non-null   object \n",
      " 16  total_charges                        7043 non-null   float64\n",
      " 17  churn                                7043 non-null   object \n",
      " 18  contract_type                        7043 non-null   object \n",
      " 19  internet_service_type                7043 non-null   object \n",
      " 20  payment_type                         7043 non-null   object \n",
      " 21  gender_Male                          7043 non-null   object \n",
      " 22  partner_Yes                          7043 non-null   object \n",
      " 23  dependents_Yes                       7043 non-null   object \n",
      " 24  phone_service_Yes                    7043 non-null   object \n",
      " 25  multiple_lines_No phone service      7043 non-null   object \n",
      " 26  multiple_lines_Yes                   7043 non-null   object \n",
      " 27  online_security_No internet service  7043 non-null   object \n",
      " 28  online_security_Yes                  7043 non-null   object \n",
      " 29  online_backup_Yes                    7043 non-null   object \n",
      " 30  device_protection_Yes                7043 non-null   object \n",
      " 31  tech_support_Yes                     7043 non-null   object \n",
      " 32  streaming_tv_Yes                     7043 non-null   object \n",
      " 33  streaming_movies_Yes                 7043 non-null   object \n",
      " 34  paperless_billing_Yes                7043 non-null   object \n",
      " 35  churn_Yes                            7043 non-null   object \n",
      " 36  contract_type_One year               7043 non-null   object \n",
      " 37  contract_type_Two year               7043 non-null   object \n",
      " 38  internet_service_type_Fiber optic    7043 non-null   object \n",
      " 39  payment_type_Credit_card             7043 non-null   object \n",
      " 40  payment_type_Electronic_check        7043 non-null   object \n",
      " 41  payment_type_Mailed_check            7043 non-null   object \n",
      "dtypes: float64(1), object(41)\n",
      "memory usage: 2.3+ MB\n"
     ]
    }
   ],
   "source": [
    "df = wrangle.get_telco_data()\n",
    "\n",
    "df = wrangle.prep_telco(df)\n",
    "df.info()\n",
    "# train, validate, test = wrangle.split_data(df, 'churn')"
   ]
  },
  {
   "cell_type": "code",
   "execution_count": null,
   "id": "b8008e06",
   "metadata": {
    "scrolled": false
   },
   "outputs": [],
   "source": [
    "#21\n",
    "\n",
    "columns = df.columns\n",
    "\n",
    "features = []\n",
    "definition = ['Customer ID','Whether the customer is a male or a female','Whether the customer is a senior citizen or not','Whether the customer has a partner or not','Whether the customer has dependents or not','Number of months the customer has stayed with the company','Whether the customer has a phone service or not','Whether the customer has multiple lines or not','Whether the customer has online security or not',\n",
    "             'Whether the customer has online backup or not','Whether the customer has device protection or not','Whether the customer has tech support or not','Whether the customer has streaming TV or not','Whether the customer has streaming movies or not','Whether the customer has paperless billing or not','The amount charged to the customer monthly','The total amount charged to the customer','Whether the customer churned or not',\n",
    "             'The contract term of the customer (Month-to-month, One year, Two year)','Customer’s internet service provider (DSL, Fiber optic, No)','The customer’s payment method (Electronic check, Mailed check, Bank transfer (automatic), Credit card (automatic))']\n",
    "\n",
    "for i in columns[0:21]:\n",
    "    features.append(i)\n",
    "    \n",
    "data_dictionary = pd.DataFrame({'features':features,\n",
    "                               'definition':definition})\n",
    "\n",
    "data_dictionary.reset_index(drop=True)\n",
    "data_dictionary.index = data_dictionary.features\n",
    "data_dictionary = data_dictionary.drop(columns='features')\n",
    "left_aligned_df = data_dictionary.style.set_properties(**{'text-align': 'left'})\n",
    "left_aligned_df = left_aligned_df.set_table_styles(\n",
    "[dict(selector = 'th', props=[('text-align', 'left')])])\n",
    "display(left_aligned_df) "
   ]
  },
  {
   "cell_type": "markdown",
   "id": "d6a3f9bd",
   "metadata": {},
   "source": [
    "## A brief look at the data"
   ]
  },
  {
   "cell_type": "code",
   "execution_count": null,
   "id": "3bd7cc9e",
   "metadata": {},
   "outputs": [],
   "source": [
    "train.head()"
   ]
  },
  {
   "cell_type": "markdown",
   "id": "00075aa7",
   "metadata": {},
   "source": [
    "## A summary of the data"
   ]
  },
  {
   "cell_type": "code",
   "execution_count": null,
   "id": "31ea74bb",
   "metadata": {},
   "outputs": [],
   "source": [
    "train.describe()"
   ]
  },
  {
   "cell_type": "markdown",
   "id": "27673eb8",
   "metadata": {},
   "source": [
    "## Explore"
   ]
  },
  {
   "cell_type": "markdown",
   "id": "39cc8f21",
   "metadata": {},
   "source": [
    "## Does payment type affect churn\n"
   ]
  },
  {
   "cell_type": "code",
   "execution_count": null,
   "id": "02b5c356",
   "metadata": {},
   "outputs": [],
   "source": [
    "plt.title('Does payment type affect churn')\n",
    "ax = sns.barplot(x='payment_type', y ='churn_Yes', data = train)\n",
    "ax.tick_params(axis='x', rotation=30)\n",
    "plt.show()"
   ]
  },
  {
   "cell_type": "markdown",
   "id": "581ec9f7",
   "metadata": {},
   "source": [
    "- a little above 40% of the people who churned paid by electronic check\n",
    "\n",
    "- payment_type affects the customer churn rate\n",
    "<br><br>\n",
    "- we assume a normal distribution because of the amount of samples being over 500\n",
    "<br>\n",
    "<b>I will now use a chi-square test to investigate weather \"payment_type\" and \"churn_Yes\" are related.</b>\n",
    "<br>\n",
    "- I will use a confidence interval of 95%\n",
    "- the resulting alpha is .05\n",
    "\n",
    "<b>Ho: payment_type and churn_Yes are independent of one another</b>\n",
    "\n",
    "<b>Ha: payment_type and churn_Yes are dependent on one another</b>"
   ]
  },
  {
   "cell_type": "code",
   "execution_count": null,
   "id": "7cb14b00",
   "metadata": {},
   "outputs": [],
   "source": [
    "observed = pd.crosstab(train.churn_Yes, train.payment_type)\n",
    "chi2, p, degf, expected = stats.chi2_contingency(observed)\n",
    "print('p value: ',p)\n",
    "print('\\npayment_type and churn_Yes are dependent on one another\\n')\n",
    "print('We reject the null hypothesis because the p value is less than alpha')"
   ]
  },
  {
   "cell_type": "markdown",
   "id": "95163ca0",
   "metadata": {},
   "source": [
    "## Does contract type affect churn"
   ]
  },
  {
   "cell_type": "code",
   "execution_count": null,
   "id": "25e954f8",
   "metadata": {},
   "outputs": [],
   "source": [
    "plt.title('Does contract_type type affect churn')\n",
    "ax = sns.barplot(x='contract_type', y ='churn_Yes', data = train)\n",
    "\n",
    "plt.show()"
   ]
  },
  {
   "cell_type": "markdown",
   "id": "e8c3226d",
   "metadata": {},
   "source": [
    "- the highest percentage of people who churned had a month to month contract\n",
    "<br><br>\n",
    "- we assume a normal distribution because of the amount of samples being over 500\n",
    "<br>\n",
    "<b>I will now use a chi-square test to investigate weather \"contract_type\" and \"churn_Yes\" are related.</b>\n",
    "<br>\n",
    "- I will use a confidence interval of 95%\n",
    "- the resulting alpha is .05\n",
    "\n",
    "<b>Ho: contract_type and churn_Yes are independent of one another</b>\n",
    "\n",
    "<b>Ha: contract_type and churn_Yes are dependent on one another</b>"
   ]
  },
  {
   "cell_type": "code",
   "execution_count": null,
   "id": "d4479bfc",
   "metadata": {},
   "outputs": [],
   "source": [
    "observed = pd.crosstab(train.churn_Yes, train.contract_type)\n",
    "chi2, p, degf, expected = stats.chi2_contingency(observed)\n",
    "print('p value: ',p)\n",
    "print('\\ncontract_type and churn_Yes are dependent on one another\\n')\n",
    "print('We reject the null hypothesis because the p value is less than alpha')"
   ]
  },
  {
   "cell_type": "markdown",
   "id": "98f3ba0c",
   "metadata": {},
   "source": [
    "## Does device pretection affect churn"
   ]
  },
  {
   "cell_type": "code",
   "execution_count": null,
   "id": "6fc26b40",
   "metadata": {},
   "outputs": [],
   "source": [
    "plt.title('Does device_protection affect churn')\n",
    "ax = sns.barplot(x='device_protection', y ='churn_Yes', data = train)\n",
    "\n",
    "plt.show()"
   ]
  },
  {
   "cell_type": "markdown",
   "id": "aeb277d5",
   "metadata": {},
   "source": [
    "- a higher percentage of people who have churned did not have device protection\n",
    "<br><br>\n",
    "- we assume a normal distribution because of the amount of samples being over 500\n",
    "<br>\n",
    "<b>I will now use a chi-square test to investigate weather \"device_protection\" and \"churn_Yes\" are related.</b>\n",
    "<br>\n",
    "- I will use a confidence interval of 95%\n",
    "- the resulting alpha is .05\n",
    "\n",
    "<b>Ho: device_protection and churn_Yes are independent of one another</b>\n",
    "\n",
    "<b>Ha: device_protection and churn_Yes are dependent on one another</b>"
   ]
  },
  {
   "cell_type": "code",
   "execution_count": null,
   "id": "9eda3304",
   "metadata": {},
   "outputs": [],
   "source": [
    "observed = pd.crosstab(train.churn_Yes, train.device_protection)\n",
    "chi2, p, degf, expected = stats.chi2_contingency(observed)\n",
    "print('p value: ',p)\n",
    "print('\\ndevice_protection and churn_Yes are dependent on one another\\n')\n",
    "print('We reject the null hypothesis because the p value is less than alpha')"
   ]
  },
  {
   "cell_type": "markdown",
   "id": "d7db4483",
   "metadata": {},
   "source": [
    "## Does tech support type affect churn"
   ]
  },
  {
   "cell_type": "code",
   "execution_count": null,
   "id": "dcbe8437",
   "metadata": {},
   "outputs": [],
   "source": [
    "plt.title('Does tech_support affect churn')\n",
    "ax = sns.barplot(x='tech_support', y ='churn_Yes', data = train)\n",
    "\n",
    "plt.show()"
   ]
  },
  {
   "cell_type": "markdown",
   "id": "45494bea",
   "metadata": {},
   "source": [
    "- a higher percentage of the people who have churned did not have tech support\n",
    "<br><br>\n",
    "- we assume a normal distribution because of the amount of samples being over 500\n",
    "<br>\n",
    "<b>I will now use a chi-square test to investigate weather \"tech_support\" and \"churn_Yes\" are related.</b>\n",
    "<br>\n",
    "- I will use a confidence interval of 95%\n",
    "- the resulting alpha is .05\n",
    "\n",
    "<b>Ho: tech_support and churn_Yes are independent of one another</b>\n",
    "\n",
    "<b>Ha: tech_support and churn_Yes are dependent on one another</b>"
   ]
  },
  {
   "cell_type": "code",
   "execution_count": null,
   "id": "4212858b",
   "metadata": {},
   "outputs": [],
   "source": [
    "observed = pd.crosstab(train.churn_Yes, train.tech_support)\n",
    "chi2, p, degf, expected = stats.chi2_contingency(observed)\n",
    "print('p value: ',p)\n",
    "print('\\ntech_support and churn_Yes are dependent on one another\\n')\n",
    "print('We reject the null hypothesis because the p value is less than alpha')"
   ]
  },
  {
   "cell_type": "markdown",
   "id": "fa06bf7e",
   "metadata": {},
   "source": [
    "## Exploration Summary"
   ]
  },
  {
   "cell_type": "markdown",
   "id": "9d729769",
   "metadata": {},
   "source": [
    "- among people who have churned not having tech support and device_protection seemed to be common factors\n",
    "<br>\n",
    "- among people who have churned most had month to month contracts \n",
    "<br>\n",
    "- among the people who have churned most of them paid by electronic check"
   ]
  },
  {
   "cell_type": "markdown",
   "id": "30c06a27",
   "metadata": {},
   "source": [
    "## Features I am moving to modeling With"
   ]
  },
  {
   "cell_type": "markdown",
   "id": "e90ece15",
   "metadata": {},
   "source": [
    "- contract_type \n",
    "- tech_support\n",
    "- payment type\n",
    "- device_protection\n",
    "- reasoning (because the p value from the chi2 tests came back less than alpha meaning that they were all dependent on churn_Yes)"
   ]
  },
  {
   "cell_type": "code",
   "execution_count": null,
   "id": "a1f9eaa8",
   "metadata": {},
   "outputs": [],
   "source": [
    "train.churn_Yes.value_counts()\n",
    "train['baseline'] = 0\n",
    "baseline = (train.baseline == train.churn_Yes).mean()\n",
    "print('Baseline',baseline)"
   ]
  },
  {
   "cell_type": "markdown",
   "id": "e69b5d8f",
   "metadata": {},
   "source": [
    "## Modeling"
   ]
  },
  {
   "cell_type": "markdown",
   "id": "a36dcd95",
   "metadata": {},
   "source": [
    "- I will use my accuracy evaluation metric\n",
    "- people who haven't churned makeup 73% of the data\n",
    "\n",
    "** by guessing false customer one could achieve an accuracy of 73% <br>\n",
    "** 73% will be the baseline accuracy I use for this project <br>\n",
    "<br>\n",
    "** I will be evaluating models developed using four different model types and various hyperparameter configurations * Models will be evaluated on train and validate data * The model that performs the best will then be evaluated on test data"
   ]
  },
  {
   "cell_type": "code",
   "execution_count": null,
   "id": "92861451",
   "metadata": {},
   "outputs": [],
   "source": [
    "X_train = train.loc[:, ['payment_type_Credit_card','payment_type_Electronic_check','payment_type_Mailed_check']]\n",
    "X_validate = validate.loc[:, ['payment_type_Credit_card','payment_type_Electronic_check','payment_type_Mailed_check']]\n",
    "X_test = validate.loc[:, ['payment_type_Credit_card','payment_type_Electronic_check','payment_type_Mailed_check']]\n",
    "\n",
    "y_train = train.churn_Yes.astype('int')\n",
    "y_validate = validate.churn_Yes.astype('int')\n",
    "y_test = test.churn_Yes.astype('int')"
   ]
  },
  {
   "cell_type": "markdown",
   "id": "eabab364",
   "metadata": {},
   "source": [
    "## Decision Tree"
   ]
  },
  {
   "cell_type": "code",
   "execution_count": null,
   "id": "d1b207e4",
   "metadata": {},
   "outputs": [],
   "source": [
    "train.payment_type_Credit_card.value_counts(dropna=False).sort_index()\n",
    "X_train.info()"
   ]
  },
  {
   "cell_type": "code",
   "execution_count": null,
   "id": "65d326ac",
   "metadata": {},
   "outputs": [],
   "source": [
    "tree = DecisionTreeClassifier(random_state = 123)\n",
    "tree"
   ]
  },
  {
   "cell_type": "code",
   "execution_count": null,
   "id": "b2fb2bc7",
   "metadata": {
    "scrolled": false
   },
   "outputs": [],
   "source": [
    "tree.fit(X_train, y_train)"
   ]
  },
  {
   "cell_type": "code",
   "execution_count": null,
   "id": "b44d0b6b",
   "metadata": {},
   "outputs": [],
   "source": [
    "train_predict = tree.score(X_train, y_train)\n",
    "validate_predict = tree.score(X_validate, y_validate)\n",
    "print('Baseline',baseline)\n",
    "print('training data prediciton',train_predict)\n",
    "print('validate data prediciton',validate_predict)\n",
    "\n",
    "plt.figure(figsize=(14,16))\n",
    "plot_tree(tree,\n",
    "          feature_names = X_train.columns,\n",
    "            \n",
    "         )          \n",
    "plt.show()\n"
   ]
  },
  {
   "cell_type": "markdown",
   "id": "83a49784",
   "metadata": {},
   "source": [
    "## Random Forest"
   ]
  },
  {
   "cell_type": "code",
   "execution_count": null,
   "id": "937899c8",
   "metadata": {},
   "outputs": [],
   "source": [
    "forest = RandomForestClassifier(max_depth=3, random_state = 123)\n",
    "forest.fit(X_train, y_train)"
   ]
  },
  {
   "cell_type": "code",
   "execution_count": null,
   "id": "ebf5102c",
   "metadata": {},
   "outputs": [],
   "source": [
    "train_predict = forest.score(X_train, y_train)\n",
    "\n",
    "validate_predict = forest.score(X_validate, y_validate)\n",
    "\n",
    "print('Baseline',baseline)\n",
    "print('training data prediciton', train_predict)\n",
    "print('validate data prediciton', validate_predict)"
   ]
  },
  {
   "cell_type": "markdown",
   "id": "dafe8c35",
   "metadata": {},
   "source": [
    "## Logistic Regression"
   ]
  },
  {
   "cell_type": "code",
   "execution_count": null,
   "id": "97007c02",
   "metadata": {},
   "outputs": [],
   "source": [
    "logit = LogisticRegression()\n",
    "logit.fit(X_train, y_train)"
   ]
  },
  {
   "cell_type": "code",
   "execution_count": null,
   "id": "0e147d4a",
   "metadata": {},
   "outputs": [],
   "source": [
    "train_predict = logit.score(X_train, y_train)\n",
    "\n",
    "validate_predict = logit.score(X_validate, y_validate)\n",
    "print('Baseline',baseline)\n",
    "print('training data prediciton', train_predict)\n",
    "print('validate data prediciton', validate_predict)"
   ]
  },
  {
   "cell_type": "markdown",
   "id": "82a482f7",
   "metadata": {},
   "source": [
    "## KNN"
   ]
  },
  {
   "cell_type": "code",
   "execution_count": null,
   "id": "041c27f3",
   "metadata": {},
   "outputs": [],
   "source": [
    "knn = KNeighborsClassifier(n_neighbors=1,weights='uniform')\n",
    "knn.fit(X_train, y_train)"
   ]
  },
  {
   "cell_type": "code",
   "execution_count": null,
   "id": "be4e4ae0",
   "metadata": {},
   "outputs": [],
   "source": [
    "train_predict = knn.score(X_train, y_train)\n",
    "\n",
    "validate_predict = knn.score(X_validate, y_validate)\n",
    "print('Baseline',baseline)\n",
    "print('training data prediciton', train_predict)\n",
    "print('validate data prediciton', validate_predict)"
   ]
  }
 ],
 "metadata": {
  "kernelspec": {
   "display_name": "Python 3 (ipykernel)",
   "language": "python",
   "name": "python3"
  },
  "language_info": {
   "codemirror_mode": {
    "name": "ipython",
    "version": 3
   },
   "file_extension": ".py",
   "mimetype": "text/x-python",
   "name": "python",
   "nbconvert_exporter": "python",
   "pygments_lexer": "ipython3",
   "version": "3.9.13"
  }
 },
 "nbformat": 4,
 "nbformat_minor": 5
}
